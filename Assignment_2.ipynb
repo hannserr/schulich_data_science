{
 "cells": [
  {
   "cell_type": "code",
   "execution_count": 22,
   "metadata": {},
   "outputs": [],
   "source": [
    "#import necessary libraries\n",
    "import pandas as pd\n",
    "import seaborn as sns\n",
    "import matplotlib.pyplot as plt\n",
    "import numpy as np\n",
    "import scipy.stats as stats"
   ]
  },
  {
   "cell_type": "code",
   "execution_count": 23,
   "metadata": {},
   "outputs": [],
   "source": [
    "#import the file experiment_dataset from downloads\n",
    "df = pd.read_csv(R'C:\\Users\\hanna\\Downloads\\experiment_dataset.csv')"
   ]
  },
  {
   "attachments": {},
   "cell_type": "markdown",
   "metadata": {},
   "source": [
    "Initial Analysis:"
   ]
  },
  {
   "cell_type": "code",
   "execution_count": 24,
   "metadata": {},
   "outputs": [
    {
     "data": {
      "text/html": [
       "<div>\n",
       "<style scoped>\n",
       "    .dataframe tbody tr th:only-of-type {\n",
       "        vertical-align: middle;\n",
       "    }\n",
       "\n",
       "    .dataframe tbody tr th {\n",
       "        vertical-align: top;\n",
       "    }\n",
       "\n",
       "    .dataframe thead th {\n",
       "        text-align: right;\n",
       "    }\n",
       "</style>\n",
       "<table border=\"1\" class=\"dataframe\">\n",
       "  <thead>\n",
       "    <tr style=\"text-align: right;\">\n",
       "      <th></th>\n",
       "      <th>Unnamed: 0</th>\n",
       "      <th>Age</th>\n",
       "      <th>Location</th>\n",
       "      <th>Device</th>\n",
       "      <th>Variant</th>\n",
       "      <th>Time Spent</th>\n",
       "      <th>CTR</th>\n",
       "    </tr>\n",
       "  </thead>\n",
       "  <tbody>\n",
       "    <tr>\n",
       "      <th>0</th>\n",
       "      <td>0</td>\n",
       "      <td>62</td>\n",
       "      <td>Location2</td>\n",
       "      <td>Device2</td>\n",
       "      <td>Control</td>\n",
       "      <td>13.928669</td>\n",
       "      <td>0.084776</td>\n",
       "    </tr>\n",
       "    <tr>\n",
       "      <th>1</th>\n",
       "      <td>1</td>\n",
       "      <td>18</td>\n",
       "      <td>Location1</td>\n",
       "      <td>Device1</td>\n",
       "      <td>Variant B</td>\n",
       "      <td>11.310518</td>\n",
       "      <td>0.096859</td>\n",
       "    </tr>\n",
       "    <tr>\n",
       "      <th>2</th>\n",
       "      <td>2</td>\n",
       "      <td>21</td>\n",
       "      <td>Location2</td>\n",
       "      <td>Device1</td>\n",
       "      <td>Variant B</td>\n",
       "      <td>24.842100</td>\n",
       "      <td>0.097630</td>\n",
       "    </tr>\n",
       "    <tr>\n",
       "      <th>3</th>\n",
       "      <td>3</td>\n",
       "      <td>21</td>\n",
       "      <td>Location1</td>\n",
       "      <td>Device3</td>\n",
       "      <td>Variant B</td>\n",
       "      <td>20.061300</td>\n",
       "      <td>0.109783</td>\n",
       "    </tr>\n",
       "    <tr>\n",
       "      <th>4</th>\n",
       "      <td>4</td>\n",
       "      <td>57</td>\n",
       "      <td>Location1</td>\n",
       "      <td>Device2</td>\n",
       "      <td>Variant B</td>\n",
       "      <td>34.495503</td>\n",
       "      <td>0.068579</td>\n",
       "    </tr>\n",
       "    <tr>\n",
       "      <th>5</th>\n",
       "      <td>5</td>\n",
       "      <td>27</td>\n",
       "      <td>Location3</td>\n",
       "      <td>Device1</td>\n",
       "      <td>Variant B</td>\n",
       "      <td>26.129246</td>\n",
       "      <td>0.149341</td>\n",
       "    </tr>\n",
       "    <tr>\n",
       "      <th>6</th>\n",
       "      <td>6</td>\n",
       "      <td>37</td>\n",
       "      <td>Location3</td>\n",
       "      <td>Device3</td>\n",
       "      <td>Variant B</td>\n",
       "      <td>20.525362</td>\n",
       "      <td>0.095788</td>\n",
       "    </tr>\n",
       "    <tr>\n",
       "      <th>7</th>\n",
       "      <td>7</td>\n",
       "      <td>39</td>\n",
       "      <td>Location2</td>\n",
       "      <td>Device1</td>\n",
       "      <td>Variant A</td>\n",
       "      <td>21.525217</td>\n",
       "      <td>0.149985</td>\n",
       "    </tr>\n",
       "    <tr>\n",
       "      <th>8</th>\n",
       "      <td>8</td>\n",
       "      <td>54</td>\n",
       "      <td>Location3</td>\n",
       "      <td>Device2</td>\n",
       "      <td>Control</td>\n",
       "      <td>21.910608</td>\n",
       "      <td>0.135535</td>\n",
       "    </tr>\n",
       "    <tr>\n",
       "      <th>9</th>\n",
       "      <td>9</td>\n",
       "      <td>41</td>\n",
       "      <td>Location1</td>\n",
       "      <td>Device2</td>\n",
       "      <td>Variant A</td>\n",
       "      <td>27.642788</td>\n",
       "      <td>0.137266</td>\n",
       "    </tr>\n",
       "    <tr>\n",
       "      <th>10</th>\n",
       "      <td>10</td>\n",
       "      <td>24</td>\n",
       "      <td>Location2</td>\n",
       "      <td>Device3</td>\n",
       "      <td>Variant B</td>\n",
       "      <td>21.113016</td>\n",
       "      <td>0.120459</td>\n",
       "    </tr>\n",
       "    <tr>\n",
       "      <th>11</th>\n",
       "      <td>11</td>\n",
       "      <td>42</td>\n",
       "      <td>Location2</td>\n",
       "      <td>Device3</td>\n",
       "      <td>Variant B</td>\n",
       "      <td>19.659044</td>\n",
       "      <td>0.092851</td>\n",
       "    </tr>\n",
       "    <tr>\n",
       "      <th>12</th>\n",
       "      <td>12</td>\n",
       "      <td>42</td>\n",
       "      <td>Location2</td>\n",
       "      <td>Device3</td>\n",
       "      <td>Variant B</td>\n",
       "      <td>32.975053</td>\n",
       "      <td>0.137640</td>\n",
       "    </tr>\n",
       "    <tr>\n",
       "      <th>13</th>\n",
       "      <td>13</td>\n",
       "      <td>30</td>\n",
       "      <td>Location2</td>\n",
       "      <td>Device3</td>\n",
       "      <td>Variant A</td>\n",
       "      <td>26.208502</td>\n",
       "      <td>0.087875</td>\n",
       "    </tr>\n",
       "    <tr>\n",
       "      <th>14</th>\n",
       "      <td>14</td>\n",
       "      <td>19</td>\n",
       "      <td>Location3</td>\n",
       "      <td>Device3</td>\n",
       "      <td>Variant B</td>\n",
       "      <td>21.334800</td>\n",
       "      <td>0.129878</td>\n",
       "    </tr>\n",
       "  </tbody>\n",
       "</table>\n",
       "</div>"
      ],
      "text/plain": [
       "    Unnamed: 0  Age   Location   Device    Variant  Time Spent       CTR\n",
       "0            0   62  Location2  Device2    Control   13.928669  0.084776\n",
       "1            1   18  Location1  Device1  Variant B   11.310518  0.096859\n",
       "2            2   21  Location2  Device1  Variant B   24.842100  0.097630\n",
       "3            3   21  Location1  Device3  Variant B   20.061300  0.109783\n",
       "4            4   57  Location1  Device2  Variant B   34.495503  0.068579\n",
       "5            5   27  Location3  Device1  Variant B   26.129246  0.149341\n",
       "6            6   37  Location3  Device3  Variant B   20.525362  0.095788\n",
       "7            7   39  Location2  Device1  Variant A   21.525217  0.149985\n",
       "8            8   54  Location3  Device2    Control   21.910608  0.135535\n",
       "9            9   41  Location1  Device2  Variant A   27.642788  0.137266\n",
       "10          10   24  Location2  Device3  Variant B   21.113016  0.120459\n",
       "11          11   42  Location2  Device3  Variant B   19.659044  0.092851\n",
       "12          12   42  Location2  Device3  Variant B   32.975053  0.137640\n",
       "13          13   30  Location2  Device3  Variant A   26.208502  0.087875\n",
       "14          14   19  Location3  Device3  Variant B   21.334800  0.129878"
      ]
     },
     "execution_count": 24,
     "metadata": {},
     "output_type": "execute_result"
    }
   ],
   "source": [
    "#take a look at first 15 rows of data set\n",
    "df.head(15)"
   ]
  },
  {
   "attachments": {},
   "cell_type": "markdown",
   "metadata": {},
   "source": [
    "There is no need to keep the Unnanmed: 0 column, so we will drop it to make analysis more clear."
   ]
  },
  {
   "cell_type": "code",
   "execution_count": 25,
   "metadata": {},
   "outputs": [],
   "source": [
    "#drop the Unnamed:0 column\n",
    "df.drop('Unnamed: 0', axis=1, inplace = True)"
   ]
  },
  {
   "cell_type": "code",
   "execution_count": 26,
   "metadata": {},
   "outputs": [
    {
     "name": "stdout",
     "output_type": "stream",
     "text": [
      "<class 'pandas.core.frame.DataFrame'>\n",
      "RangeIndex: 1000 entries, 0 to 999\n",
      "Data columns (total 6 columns):\n",
      " #   Column      Non-Null Count  Dtype  \n",
      "---  ------      --------------  -----  \n",
      " 0   Age         1000 non-null   int64  \n",
      " 1   Location    1000 non-null   object \n",
      " 2   Device      1000 non-null   object \n",
      " 3   Variant     1000 non-null   object \n",
      " 4   Time Spent  1000 non-null   float64\n",
      " 5   CTR         1000 non-null   float64\n",
      "dtypes: float64(2), int64(1), object(3)\n",
      "memory usage: 47.0+ KB\n"
     ]
    }
   ],
   "source": [
    "#look at info of data set\n",
    "df.info()"
   ]
  },
  {
   "attachments": {},
   "cell_type": "markdown",
   "metadata": {},
   "source": [
    "According to the info, the data set looks clean (no null values), so we can now start analyzing the data. First, we will check the metrics of location, age, and time spent to see if they have any significant bearing on the average time spent by users and the click-through-rate (CTR). "
   ]
  },
  {
   "cell_type": "code",
   "execution_count": 27,
   "metadata": {},
   "outputs": [
    {
     "data": {
      "text/html": [
       "<div>\n",
       "<style scoped>\n",
       "    .dataframe tbody tr th:only-of-type {\n",
       "        vertical-align: middle;\n",
       "    }\n",
       "\n",
       "    .dataframe tbody tr th {\n",
       "        vertical-align: top;\n",
       "    }\n",
       "\n",
       "    .dataframe thead th {\n",
       "        text-align: right;\n",
       "    }\n",
       "</style>\n",
       "<table border=\"1\" class=\"dataframe\">\n",
       "  <thead>\n",
       "    <tr style=\"text-align: right;\">\n",
       "      <th></th>\n",
       "      <th>Time Spent</th>\n",
       "      <th>CTR</th>\n",
       "    </tr>\n",
       "    <tr>\n",
       "      <th>Location</th>\n",
       "      <th></th>\n",
       "      <th></th>\n",
       "    </tr>\n",
       "  </thead>\n",
       "  <tbody>\n",
       "    <tr>\n",
       "      <th>Location1</th>\n",
       "      <td>22.707286</td>\n",
       "      <td>0.110217</td>\n",
       "    </tr>\n",
       "    <tr>\n",
       "      <th>Location2</th>\n",
       "      <td>22.648998</td>\n",
       "      <td>0.108517</td>\n",
       "    </tr>\n",
       "    <tr>\n",
       "      <th>Location3</th>\n",
       "      <td>22.787691</td>\n",
       "      <td>0.108708</td>\n",
       "    </tr>\n",
       "  </tbody>\n",
       "</table>\n",
       "</div>"
      ],
      "text/plain": [
       "           Time Spent       CTR\n",
       "Location                       \n",
       "Location1   22.707286  0.110217\n",
       "Location2   22.648998  0.108517\n",
       "Location3   22.787691  0.108708"
      ]
     },
     "execution_count": 27,
     "metadata": {},
     "output_type": "execute_result"
    }
   ],
   "source": [
    "#group by location\n",
    "df.groupby('Location')[['Time Spent','CTR']].mean()"
   ]
  },
  {
   "cell_type": "code",
   "execution_count": 28,
   "metadata": {},
   "outputs": [
    {
     "data": {
      "text/html": [
       "<div>\n",
       "<style scoped>\n",
       "    .dataframe tbody tr th:only-of-type {\n",
       "        vertical-align: middle;\n",
       "    }\n",
       "\n",
       "    .dataframe tbody tr th {\n",
       "        vertical-align: top;\n",
       "    }\n",
       "\n",
       "    .dataframe thead th {\n",
       "        text-align: right;\n",
       "    }\n",
       "</style>\n",
       "<table border=\"1\" class=\"dataframe\">\n",
       "  <thead>\n",
       "    <tr style=\"text-align: right;\">\n",
       "      <th></th>\n",
       "      <th>Time Spent</th>\n",
       "      <th>CTR</th>\n",
       "    </tr>\n",
       "    <tr>\n",
       "      <th>Age</th>\n",
       "      <th></th>\n",
       "      <th></th>\n",
       "    </tr>\n",
       "  </thead>\n",
       "  <tbody>\n",
       "    <tr>\n",
       "      <th>18</th>\n",
       "      <td>21.805160</td>\n",
       "      <td>0.104431</td>\n",
       "    </tr>\n",
       "    <tr>\n",
       "      <th>19</th>\n",
       "      <td>24.301099</td>\n",
       "      <td>0.113928</td>\n",
       "    </tr>\n",
       "    <tr>\n",
       "      <th>20</th>\n",
       "      <td>22.658484</td>\n",
       "      <td>0.106769</td>\n",
       "    </tr>\n",
       "    <tr>\n",
       "      <th>21</th>\n",
       "      <td>23.174444</td>\n",
       "      <td>0.106317</td>\n",
       "    </tr>\n",
       "    <tr>\n",
       "      <th>22</th>\n",
       "      <td>23.339777</td>\n",
       "      <td>0.111566</td>\n",
       "    </tr>\n",
       "    <tr>\n",
       "      <th>23</th>\n",
       "      <td>21.203465</td>\n",
       "      <td>0.111024</td>\n",
       "    </tr>\n",
       "    <tr>\n",
       "      <th>24</th>\n",
       "      <td>21.505956</td>\n",
       "      <td>0.109765</td>\n",
       "    </tr>\n",
       "    <tr>\n",
       "      <th>25</th>\n",
       "      <td>23.541231</td>\n",
       "      <td>0.109907</td>\n",
       "    </tr>\n",
       "    <tr>\n",
       "      <th>26</th>\n",
       "      <td>22.598906</td>\n",
       "      <td>0.110061</td>\n",
       "    </tr>\n",
       "    <tr>\n",
       "      <th>27</th>\n",
       "      <td>21.729390</td>\n",
       "      <td>0.105247</td>\n",
       "    </tr>\n",
       "    <tr>\n",
       "      <th>28</th>\n",
       "      <td>21.807757</td>\n",
       "      <td>0.103960</td>\n",
       "    </tr>\n",
       "    <tr>\n",
       "      <th>29</th>\n",
       "      <td>24.299111</td>\n",
       "      <td>0.100519</td>\n",
       "    </tr>\n",
       "    <tr>\n",
       "      <th>30</th>\n",
       "      <td>23.432915</td>\n",
       "      <td>0.106659</td>\n",
       "    </tr>\n",
       "    <tr>\n",
       "      <th>31</th>\n",
       "      <td>21.989786</td>\n",
       "      <td>0.104464</td>\n",
       "    </tr>\n",
       "    <tr>\n",
       "      <th>32</th>\n",
       "      <td>22.346828</td>\n",
       "      <td>0.112993</td>\n",
       "    </tr>\n",
       "    <tr>\n",
       "      <th>33</th>\n",
       "      <td>24.616644</td>\n",
       "      <td>0.114898</td>\n",
       "    </tr>\n",
       "    <tr>\n",
       "      <th>34</th>\n",
       "      <td>22.385361</td>\n",
       "      <td>0.106876</td>\n",
       "    </tr>\n",
       "    <tr>\n",
       "      <th>35</th>\n",
       "      <td>21.581871</td>\n",
       "      <td>0.111845</td>\n",
       "    </tr>\n",
       "    <tr>\n",
       "      <th>36</th>\n",
       "      <td>22.879286</td>\n",
       "      <td>0.107217</td>\n",
       "    </tr>\n",
       "    <tr>\n",
       "      <th>37</th>\n",
       "      <td>20.809576</td>\n",
       "      <td>0.120952</td>\n",
       "    </tr>\n",
       "    <tr>\n",
       "      <th>38</th>\n",
       "      <td>25.301273</td>\n",
       "      <td>0.117152</td>\n",
       "    </tr>\n",
       "    <tr>\n",
       "      <th>39</th>\n",
       "      <td>22.893486</td>\n",
       "      <td>0.105070</td>\n",
       "    </tr>\n",
       "    <tr>\n",
       "      <th>40</th>\n",
       "      <td>21.684611</td>\n",
       "      <td>0.121210</td>\n",
       "    </tr>\n",
       "    <tr>\n",
       "      <th>41</th>\n",
       "      <td>24.134836</td>\n",
       "      <td>0.110276</td>\n",
       "    </tr>\n",
       "    <tr>\n",
       "      <th>42</th>\n",
       "      <td>24.833502</td>\n",
       "      <td>0.113295</td>\n",
       "    </tr>\n",
       "    <tr>\n",
       "      <th>43</th>\n",
       "      <td>21.289182</td>\n",
       "      <td>0.106507</td>\n",
       "    </tr>\n",
       "    <tr>\n",
       "      <th>44</th>\n",
       "      <td>23.023596</td>\n",
       "      <td>0.106827</td>\n",
       "    </tr>\n",
       "    <tr>\n",
       "      <th>45</th>\n",
       "      <td>22.468996</td>\n",
       "      <td>0.099483</td>\n",
       "    </tr>\n",
       "    <tr>\n",
       "      <th>46</th>\n",
       "      <td>22.938505</td>\n",
       "      <td>0.110406</td>\n",
       "    </tr>\n",
       "    <tr>\n",
       "      <th>47</th>\n",
       "      <td>21.702336</td>\n",
       "      <td>0.119617</td>\n",
       "    </tr>\n",
       "    <tr>\n",
       "      <th>48</th>\n",
       "      <td>22.503268</td>\n",
       "      <td>0.108007</td>\n",
       "    </tr>\n",
       "    <tr>\n",
       "      <th>49</th>\n",
       "      <td>25.031848</td>\n",
       "      <td>0.115586</td>\n",
       "    </tr>\n",
       "    <tr>\n",
       "      <th>50</th>\n",
       "      <td>24.264450</td>\n",
       "      <td>0.104252</td>\n",
       "    </tr>\n",
       "    <tr>\n",
       "      <th>51</th>\n",
       "      <td>22.599297</td>\n",
       "      <td>0.106918</td>\n",
       "    </tr>\n",
       "    <tr>\n",
       "      <th>52</th>\n",
       "      <td>21.631632</td>\n",
       "      <td>0.106556</td>\n",
       "    </tr>\n",
       "    <tr>\n",
       "      <th>53</th>\n",
       "      <td>20.838519</td>\n",
       "      <td>0.107413</td>\n",
       "    </tr>\n",
       "    <tr>\n",
       "      <th>54</th>\n",
       "      <td>23.340736</td>\n",
       "      <td>0.108838</td>\n",
       "    </tr>\n",
       "    <tr>\n",
       "      <th>55</th>\n",
       "      <td>23.145363</td>\n",
       "      <td>0.108426</td>\n",
       "    </tr>\n",
       "    <tr>\n",
       "      <th>56</th>\n",
       "      <td>21.172350</td>\n",
       "      <td>0.109381</td>\n",
       "    </tr>\n",
       "    <tr>\n",
       "      <th>57</th>\n",
       "      <td>23.608306</td>\n",
       "      <td>0.106884</td>\n",
       "    </tr>\n",
       "    <tr>\n",
       "      <th>58</th>\n",
       "      <td>21.206153</td>\n",
       "      <td>0.107542</td>\n",
       "    </tr>\n",
       "    <tr>\n",
       "      <th>59</th>\n",
       "      <td>20.797435</td>\n",
       "      <td>0.106319</td>\n",
       "    </tr>\n",
       "    <tr>\n",
       "      <th>60</th>\n",
       "      <td>21.909116</td>\n",
       "      <td>0.114229</td>\n",
       "    </tr>\n",
       "    <tr>\n",
       "      <th>61</th>\n",
       "      <td>24.839548</td>\n",
       "      <td>0.105097</td>\n",
       "    </tr>\n",
       "    <tr>\n",
       "      <th>62</th>\n",
       "      <td>23.215577</td>\n",
       "      <td>0.111154</td>\n",
       "    </tr>\n",
       "    <tr>\n",
       "      <th>63</th>\n",
       "      <td>23.439610</td>\n",
       "      <td>0.111595</td>\n",
       "    </tr>\n",
       "    <tr>\n",
       "      <th>64</th>\n",
       "      <td>23.264560</td>\n",
       "      <td>0.105848</td>\n",
       "    </tr>\n",
       "  </tbody>\n",
       "</table>\n",
       "</div>"
      ],
      "text/plain": [
       "     Time Spent       CTR\n",
       "Age                      \n",
       "18    21.805160  0.104431\n",
       "19    24.301099  0.113928\n",
       "20    22.658484  0.106769\n",
       "21    23.174444  0.106317\n",
       "22    23.339777  0.111566\n",
       "23    21.203465  0.111024\n",
       "24    21.505956  0.109765\n",
       "25    23.541231  0.109907\n",
       "26    22.598906  0.110061\n",
       "27    21.729390  0.105247\n",
       "28    21.807757  0.103960\n",
       "29    24.299111  0.100519\n",
       "30    23.432915  0.106659\n",
       "31    21.989786  0.104464\n",
       "32    22.346828  0.112993\n",
       "33    24.616644  0.114898\n",
       "34    22.385361  0.106876\n",
       "35    21.581871  0.111845\n",
       "36    22.879286  0.107217\n",
       "37    20.809576  0.120952\n",
       "38    25.301273  0.117152\n",
       "39    22.893486  0.105070\n",
       "40    21.684611  0.121210\n",
       "41    24.134836  0.110276\n",
       "42    24.833502  0.113295\n",
       "43    21.289182  0.106507\n",
       "44    23.023596  0.106827\n",
       "45    22.468996  0.099483\n",
       "46    22.938505  0.110406\n",
       "47    21.702336  0.119617\n",
       "48    22.503268  0.108007\n",
       "49    25.031848  0.115586\n",
       "50    24.264450  0.104252\n",
       "51    22.599297  0.106918\n",
       "52    21.631632  0.106556\n",
       "53    20.838519  0.107413\n",
       "54    23.340736  0.108838\n",
       "55    23.145363  0.108426\n",
       "56    21.172350  0.109381\n",
       "57    23.608306  0.106884\n",
       "58    21.206153  0.107542\n",
       "59    20.797435  0.106319\n",
       "60    21.909116  0.114229\n",
       "61    24.839548  0.105097\n",
       "62    23.215577  0.111154\n",
       "63    23.439610  0.111595\n",
       "64    23.264560  0.105848"
      ]
     },
     "execution_count": 28,
     "metadata": {},
     "output_type": "execute_result"
    }
   ],
   "source": [
    "#group by age\n",
    "df.groupby('Age')[['Time Spent','CTR']].mean()"
   ]
  },
  {
   "cell_type": "code",
   "execution_count": 29,
   "metadata": {},
   "outputs": [
    {
     "data": {
      "text/html": [
       "<div>\n",
       "<style scoped>\n",
       "    .dataframe tbody tr th:only-of-type {\n",
       "        vertical-align: middle;\n",
       "    }\n",
       "\n",
       "    .dataframe tbody tr th {\n",
       "        vertical-align: top;\n",
       "    }\n",
       "\n",
       "    .dataframe thead th {\n",
       "        text-align: right;\n",
       "    }\n",
       "</style>\n",
       "<table border=\"1\" class=\"dataframe\">\n",
       "  <thead>\n",
       "    <tr style=\"text-align: right;\">\n",
       "      <th></th>\n",
       "      <th>Time Spent</th>\n",
       "      <th>CTR</th>\n",
       "    </tr>\n",
       "    <tr>\n",
       "      <th>Device</th>\n",
       "      <th></th>\n",
       "      <th></th>\n",
       "    </tr>\n",
       "  </thead>\n",
       "  <tbody>\n",
       "    <tr>\n",
       "      <th>Device1</th>\n",
       "      <td>22.635032</td>\n",
       "      <td>0.109634</td>\n",
       "    </tr>\n",
       "    <tr>\n",
       "      <th>Device2</th>\n",
       "      <td>22.890021</td>\n",
       "      <td>0.109868</td>\n",
       "    </tr>\n",
       "    <tr>\n",
       "      <th>Device3</th>\n",
       "      <td>22.612276</td>\n",
       "      <td>0.107993</td>\n",
       "    </tr>\n",
       "  </tbody>\n",
       "</table>\n",
       "</div>"
      ],
      "text/plain": [
       "         Time Spent       CTR\n",
       "Device                       \n",
       "Device1   22.635032  0.109634\n",
       "Device2   22.890021  0.109868\n",
       "Device3   22.612276  0.107993"
      ]
     },
     "execution_count": 29,
     "metadata": {},
     "output_type": "execute_result"
    }
   ],
   "source": [
    "#group by device \n",
    "df.groupby('Device')[['Time Spent','CTR']].mean()"
   ]
  },
  {
   "attachments": {},
   "cell_type": "markdown",
   "metadata": {},
   "source": [
    "Based on the results above, we can see that users are mostly similar in behaviour regardless of the different factors. This can be validated by performing an ANOVA test to determine the p-values."
   ]
  },
  {
   "cell_type": "code",
   "execution_count": 30,
   "metadata": {},
   "outputs": [
    {
     "name": "stdout",
     "output_type": "stream",
     "text": [
      "F_onewayResult(statistic=0.053578839670573676, pvalue=0.9478339402848069)\n"
     ]
    }
   ],
   "source": [
    "#perform ANOVA test for location v.s. time spent\n",
    "loc_1 = df[df['Location'] == 'Location1']['Time Spent']\n",
    "loc_2 = df[df['Location'] == 'Location2']['Time Spent']\n",
    "loc_3 = df[df['Location'] == 'Location3']['Time Spent']\n",
    "\n",
    "p_val = stats.f_oneway(loc_1, loc_2, loc_3)\n",
    "print(p_val)\n"
   ]
  },
  {
   "cell_type": "code",
   "execution_count": 31,
   "metadata": {},
   "outputs": [
    {
     "name": "stdout",
     "output_type": "stream",
     "text": [
      "F_onewayResult(statistic=0.5792245145655729, pvalue=0.5605211716238133)\n"
     ]
    }
   ],
   "source": [
    "#perform ANOVA test for location v.s. CTR\n",
    "loc_1 = df[df['Location'] == 'Location1']['CTR']\n",
    "loc_2 = df[df['Location'] == 'Location2']['CTR']\n",
    "loc_3 = df[df['Location'] == 'Location3']['CTR']\n",
    "\n",
    "p_val = stats.f_oneway(loc_1, loc_2, loc_3)\n",
    "print(p_val)"
   ]
  },
  {
   "cell_type": "code",
   "execution_count": 32,
   "metadata": {},
   "outputs": [
    {
     "name": "stdout",
     "output_type": "stream",
     "text": [
      "F_onewayResult(statistic=0.26645371811833884, pvalue=0.7661459958744103)\n"
     ]
    }
   ],
   "source": [
    "#perform ANOVA test for device v.s. time spent\n",
    "loc_1 = df[df['Device'] == 'Device1']['Time Spent']\n",
    "loc_2 = df[df['Device'] == 'Device2']['Time Spent']\n",
    "loc_3 = df[df['Device'] == 'Device3']['Time Spent']\n",
    "\n",
    "p_val = stats.f_oneway(loc_1, loc_2, loc_3)\n",
    "print(p_val)"
   ]
  },
  {
   "cell_type": "code",
   "execution_count": 33,
   "metadata": {},
   "outputs": [
    {
     "name": "stdout",
     "output_type": "stream",
     "text": [
      "F_onewayResult(statistic=0.7105872492654717, pvalue=0.4916042399968955)\n"
     ]
    }
   ],
   "source": [
    "#perform ANOVA test for device v.s. CTR\n",
    "loc_1 = df[df['Device'] == 'Device1']['CTR']\n",
    "loc_2 = df[df['Device'] == 'Device2']['CTR']\n",
    "loc_3 = df[df['Device'] == 'Device3']['CTR']\n",
    "\n",
    "p_val = stats.f_oneway(loc_1, loc_2, loc_3)\n",
    "print(p_val)"
   ]
  },
  {
   "attachments": {},
   "cell_type": "markdown",
   "metadata": {},
   "source": [
    "As seen by the tests above, the p-values are all very high. This confirms that each metric is statistically the same (user behaviour is similar across all factors). A test was not performed for age as there are many values, however we know that it is highly likely that it is not a significant factor in behaviour based on the initial analysis."
   ]
  },
  {
   "attachments": {},
   "cell_type": "markdown",
   "metadata": {},
   "source": [
    "We will now start looking at the data based on each variant."
   ]
  },
  {
   "cell_type": "code",
   "execution_count": 34,
   "metadata": {},
   "outputs": [
    {
     "data": {
      "text/html": [
       "<div>\n",
       "<style scoped>\n",
       "    .dataframe tbody tr th:only-of-type {\n",
       "        vertical-align: middle;\n",
       "    }\n",
       "\n",
       "    .dataframe tbody tr th {\n",
       "        vertical-align: top;\n",
       "    }\n",
       "\n",
       "    .dataframe thead th {\n",
       "        text-align: right;\n",
       "    }\n",
       "</style>\n",
       "<table border=\"1\" class=\"dataframe\">\n",
       "  <thead>\n",
       "    <tr style=\"text-align: right;\">\n",
       "      <th></th>\n",
       "      <th>Time Spent</th>\n",
       "      <th>CTR</th>\n",
       "    </tr>\n",
       "    <tr>\n",
       "      <th>Variant</th>\n",
       "      <th></th>\n",
       "      <th></th>\n",
       "    </tr>\n",
       "  </thead>\n",
       "  <tbody>\n",
       "    <tr>\n",
       "      <th>Control</th>\n",
       "      <td>20.070781</td>\n",
       "      <td>0.098554</td>\n",
       "    </tr>\n",
       "    <tr>\n",
       "      <th>Variant A</th>\n",
       "      <td>24.805547</td>\n",
       "      <td>0.120269</td>\n",
       "    </tr>\n",
       "    <tr>\n",
       "      <th>Variant B</th>\n",
       "      <td>23.343783</td>\n",
       "      <td>0.108933</td>\n",
       "    </tr>\n",
       "  </tbody>\n",
       "</table>\n",
       "</div>"
      ],
      "text/plain": [
       "           Time Spent       CTR\n",
       "Variant                        \n",
       "Control     20.070781  0.098554\n",
       "Variant A   24.805547  0.120269\n",
       "Variant B   23.343783  0.108933"
      ]
     },
     "execution_count": 34,
     "metadata": {},
     "output_type": "execute_result"
    }
   ],
   "source": [
    "#group by variant\n",
    "df.groupby('Variant')[['Time Spent','CTR']].mean()"
   ]
  },
  {
   "attachments": {},
   "cell_type": "markdown",
   "metadata": {},
   "source": [
    "The data above shows that there are not any large differences between the control, variant A, and variant B. However, we can still see that variant A has a higher mean in both time spent and CTR. We will now create a visualization using box plots to see if this remains consistent."
   ]
  },
  {
   "cell_type": "code",
   "execution_count": 35,
   "metadata": {},
   "outputs": [
    {
     "data": {
      "image/png": "[encoded data removed]",
      "text/plain": [
       "<Figure size 640x480 with 1 Axes>"
      ]
     },
     "metadata": {},
     "output_type": "display_data"
    }
   ],
   "source": [
    "#visualize the data by creating box plot showing the time spent by variant\n",
    "sns.boxplot(x = df['Variant'], y = df['Time Spent'])\n",
    "plt.xlabel = ('Variant')\n",
    "plt.ylabel = ('Time Spent')\n",
    "plt.title('Variant v.s. Time Spent')\n",
    "plt.show()"
   ]
  },
  {
   "attachments": {},
   "cell_type": "markdown",
   "metadata": {},
   "source": [
    "As seen in this box plot, variant A has a higher median time spent when compared to the other groups. There are also some outliers, however we will be keeping these for the purpose of analysis."
   ]
  },
  {
   "cell_type": "code",
   "execution_count": 36,
   "metadata": {},
   "outputs": [
    {
     "data": {
      "image/png": "[encoded data removed]",
      "text/plain": [
       "<Figure size 640x480 with 1 Axes>"
      ]
     },
     "metadata": {},
     "output_type": "display_data"
    }
   ],
   "source": [
    "#visualize the data by creating box plot showing the CTR by variant\n",
    "sns.boxplot(x = df['Variant'], y = df['CTR'])\n",
    "plt.xlabel = ('Variant')\n",
    "plt.ylabel = ('CTR')\n",
    "plt.title('Variant v.s. CTR')\n",
    "plt.show()"
   ]
  },
  {
   "attachments": {},
   "cell_type": "markdown",
   "metadata": {},
   "source": [
    "This box plot supports our previous findings that variant A looks to be performing better than the other groups, as it has the highest median CTR. "
   ]
  },
  {
   "attachments": {},
   "cell_type": "markdown",
   "metadata": {},
   "source": [
    "Based on this quick analysis and visualization, it appears that both variant A and variant B are outperforming the control. We will now conduct a statistical analysis to confirm if this is true."
   ]
  },
  {
   "attachments": {},
   "cell_type": "markdown",
   "metadata": {},
   "source": [
    "Question 1."
   ]
  },
  {
   "cell_type": "code",
   "execution_count": 37,
   "metadata": {},
   "outputs": [
    {
     "name": "stdout",
     "output_type": "stream",
     "text": [
      "Time Spent Lift - Variant A 1361.7650937699673\n",
      "Time Spent Lift - Variant B 879.3828393472804\n"
     ]
    }
   ],
   "source": [
    "#check the lift of time spent by variant\n",
    "df2 = df.groupby(by = 'Variant')['Time Spent'].sum()\n",
    "variant_a_lift = df2['Variant A'] - df2['Control']\n",
    "variant_b_lift = df2['Variant B'] - df2['Control']\n",
    "print ('Time Spent Lift - Variant A', variant_a_lift)\n",
    "print ('Time Spent Lift - Variant B', variant_b_lift)"
   ]
  },
  {
   "cell_type": "code",
   "execution_count": 38,
   "metadata": {},
   "outputs": [
    {
     "name": "stdout",
     "output_type": "stream",
     "text": [
      "CTR Lift - Variant A 6.180520716900553\n",
      "CTR Lift - Variant B 2.439491210528942\n"
     ]
    }
   ],
   "source": [
    "#check the lift of CTR by variant\n",
    "df2 = df.groupby(by = 'Variant')['CTR'].sum()\n",
    "variant_a_lift = df2['Variant A'] - df2['Control']\n",
    "variant_b_lift = df2['Variant B'] - df2['Control']\n",
    "print ('CTR Lift - Variant A', variant_a_lift)\n",
    "print ('CTR Lift - Variant B', variant_b_lift)"
   ]
  },
  {
   "attachments": {},
   "cell_type": "markdown",
   "metadata": {},
   "source": [
    "Our findings:\n",
    "- Time spent by variant\n",
    "    - Variant A has a lift of 1361.77, meaning that users exposed to this feature increased their average time spent by 1361.77% as compared to the control group. This is quite significant.\n",
    "    - Variant b has a lift of 879.38, meaning that users exposed to this feature increased their average time spent by 879.38% as compared to the control group. While this is still high, it is lower than users exposed to variant A.\n",
    "    - These findings confirm that although both features resulted in lift, variant A was more successful than variant B in capturing the users' attention, causing them to spend more time looking at the features on the mobile application.\n",
    "- CTR by variant\n",
    "    - Variant A has a lift of 6.18, meaning that users exposed to this feature increased their click-through-rate by 6.18% as compared to the control group. This shows that variant A was successful in increasing CTR of users.\n",
    "    - Variant B has a lift of 2.44, meaning that users exposed to this feature increased their click-through-rate by 2.44% as compared to the control group. This shows that variant B was successful in increasing CTR of users, however was less successful than variant A.\n",
    "    - These findings confirm that that although both features resulted in lift, users exposed to variant A clicked on more aspects that were included in the feature than users exposed to variant B."
   ]
  },
  {
   "attachments": {},
   "cell_type": "markdown",
   "metadata": {},
   "source": [
    "Question 2."
   ]
  },
  {
   "attachments": {},
   "cell_type": "markdown",
   "metadata": {},
   "source": [
    "We will now conduct statistical testing to determine if there is actually a statistically significant different between the features and the control group. To do this, we will conduct two-sample t-tests to compare the average time spent and the CTR between variant A and variant B. The t-statistic will allow us to determine the extent of the differences between the features and the control group.\n",
    "Now, we define our hypotheses:\n",
    "- Null hypothesis - There is no statistically significant difference between the two features and the control group in terms of average time spent (and CTR respectively).\n",
    "- Alternate hypothesis - There is a statisically significant difference between the two features and the control group in terms of average time spent (and CTR respectively).\n",
    "\n",
    "If the p-value is below 0.05, it will indicate that the difference of average time spent and CTR between the features and control group is statistically significant. Therefore, we will reject the null hypothesis and accept our alternate hypothesis."
   ]
  },
  {
   "cell_type": "code",
   "execution_count": 39,
   "metadata": {},
   "outputs": [
    {
     "name": "stdout",
     "output_type": "stream",
     "text": [
      "Variant A v.s. Control - Time Spent:\n",
      "T-statistic: 12.142363487472364\n",
      "P-value: 8.488565644996449e-31\n",
      "Variant B v.s. Control - Time Spent:\n",
      "T-statistic: 8.174237395991806\n",
      "P-value: 1.496358076285182e-15\n"
     ]
    }
   ],
   "source": [
    "#import necessary features to perform t-test\n",
    "from scipy.stats import ttest_ind\n",
    "\n",
    "#define variables\n",
    "variant_a = df[df['Variant'] == 'Variant A']\n",
    "variant_b = df[df['Variant'] == 'Variant B']\n",
    "control = df[df['Variant'] == 'Control']\n",
    "\n",
    "#perform t-test for time spent\n",
    "tstatistic_time_a, pvalue_time_a = ttest_ind(variant_a['Time Spent'], control['Time Spent'])\n",
    "tstatistic_time_b, pvalue_time_b = ttest_ind(variant_b['Time Spent'], control['Time Spent'])\n",
    "\n",
    "print('Variant A v.s. Control - Time Spent:')\n",
    "print('T-statistic:', tstatistic_time_a)\n",
    "print('P-value:', pvalue_time_a)\n",
    "\n",
    "print('Variant B v.s. Control - Time Spent:')\n",
    "print('T-statistic:', tstatistic_time_b)\n",
    "print('P-value:', pvalue_time_b)"
   ]
  },
  {
   "attachments": {},
   "cell_type": "markdown",
   "metadata": {},
   "source": [
    "Variant A v.s. Control - Time Spent:\n",
    "- The t-statistic is quite high, which suggests that there is a significant difference in average time spent between variant A and the control group.\n",
    "- The p-value is very small (below 0.05). As explained above, this means that we reject our null hypothesis and accept the alternate hypothesis. Therefore, we can come to the conclusion that there is a statisically significant difference between variant A and the control group in terms of average time spent.\n",
    "\n",
    "Variant B v.s. Control - Time Spent:\n",
    "- The t-statistic is quite high, which suggests that there is a significant difference in average time spent between variant B and the control group.\n",
    "- The p-value is very small (below 0.05). Therefore, we can come to the conclusion that there is a statisically significant difference between variant B and the control group in terms of average time spent."
   ]
  },
  {
   "cell_type": "code",
   "execution_count": 40,
   "metadata": {},
   "outputs": [
    {
     "name": "stdout",
     "output_type": "stream",
     "text": [
      "Variant A v.s. Control - Click-Through-Rate:\n",
      "T-statistic: 13.829424737499187\n",
      "P-value: 1.9602781373243157e-38\n",
      "Variant B v.s. Control - Click-Through-Rate:\n",
      "T-statistic: 6.4718143491783255\n",
      "P-value: 1.8743198199982106e-10\n"
     ]
    }
   ],
   "source": [
    "#perform t-test for CTR\n",
    "tstatistic_time_a, pvalue_time_a = ttest_ind(variant_a['CTR'], control['CTR'])\n",
    "tstatistic_time_b, pvalue_time_b = ttest_ind(variant_b['CTR'], control['CTR'])\n",
    "\n",
    "print('Variant A v.s. Control - Click-Through-Rate:')\n",
    "print('T-statistic:', tstatistic_time_a)\n",
    "print('P-value:', pvalue_time_a)\n",
    "\n",
    "print('Variant B v.s. Control - Click-Through-Rate:')\n",
    "print('T-statistic:', tstatistic_time_b)\n",
    "print('P-value:', pvalue_time_b)"
   ]
  },
  {
   "attachments": {},
   "cell_type": "markdown",
   "metadata": {},
   "source": [
    "Variant A v.s. Control - Click-Through-Rate:\n",
    "- The t-statistic is quite high, which suggests that there is a significant difference in CTR between variant A and the control group.\n",
    "- The p-value is very small (below 0.05). As explained above, this means that we reject our null hypothesis and accept the alternate hypothesis. Therefore, we can come to the conclusion that there is a statisically significant difference between variant A and the control group in terms of CTR.\n",
    "\n",
    "Variant B v.s. Control -  Click-Through-Rate:\n",
    "- The t-statistic is quite high, which suggests that there is a significant difference in CTR between variant B and the control group.\n",
    "- The p-value is very small (below 0.05). Therefore, we can come to the conclusion that there is a statisically significant difference between variant B and the control group in terms of CTR."
   ]
  },
  {
   "attachments": {},
   "cell_type": "markdown",
   "metadata": {},
   "source": [
    "Now, we will conduct another t-test to observe the differences in average time spent and CTR between variant A and variant B. With this test, the null hypothesis is that there is no statistically significant difference between variant A and variant B in terms of average time spent (and CTR respectively). If the p-value is less than 0.05, we will reject this and conclude that there is a meaningful difference between the two features."
   ]
  },
  {
   "cell_type": "code",
   "execution_count": 41,
   "metadata": {},
   "outputs": [
    {
     "name": "stdout",
     "output_type": "stream",
     "text": [
      "Variant A v.s. Variant B - Time Spent:\n",
      "T-Statistic: 3.6788175394209075\n",
      "P-Value: 0.0002534771014765265\n",
      "Variant A vs. Variant B - Click-Through-Rate:\n",
      "T-Statistic: 7.08499696316128\n",
      "P-Value: 3.587180487986577e-12\n"
     ]
    }
   ],
   "source": [
    "#import necessary features to perform t-test\n",
    "from scipy import stats\n",
    "\n",
    "#define variables\n",
    "variant_a_time_spent = df[df['Variant'] == 'Variant A']['Time Spent']\n",
    "variant_b_time_spent = df[df['Variant'] == 'Variant B']['Time Spent']\n",
    "\n",
    "variant_a_ctr = df[df['Variant'] == 'Variant A']['CTR']\n",
    "variant_b_ctr = df[df['Variant'] == 'Variant B']['CTR']\n",
    "\n",
    "#perform t-test comparing variant A and variant B\n",
    "t_statistic_time_spent, p_value_time_spent = stats.ttest_ind(variant_a_time_spent, variant_b_time_spent)\n",
    "\n",
    "\n",
    "t_statistic_ctr, p_value_ctr = stats.ttest_ind(variant_a_ctr, variant_b_ctr)\n",
    "\n",
    "print(\"Variant A v.s. Variant B - Time Spent:\")\n",
    "print(\"T-Statistic:\", t_statistic_time_spent)\n",
    "print(\"P-Value:\", p_value_time_spent)\n",
    "\n",
    "print(\"Variant A vs. Variant B - Click-Through-Rate:\")\n",
    "print(\"T-Statistic:\", t_statistic_ctr)\n",
    "print(\"P-Value:\", p_value_ctr)"
   ]
  },
  {
   "attachments": {},
   "cell_type": "markdown",
   "metadata": {},
   "source": [
    "As we can see, the p-values for both average time spent and the CTR are below 0.05, meaning that we reject the null hypothesis. This confirms that there is a meaningful difference between the two features. "
   ]
  },
  {
   "attachments": {},
   "cell_type": "markdown",
   "metadata": {},
   "source": [
    "Our findings:\n",
    "\n",
    "Time spent by variant\n",
    "- Both variant A and variant B demonstrated that they have succesfully influenced users to spend more time on average looking at different features on the mobile application.\n",
    "- This means that the features of both variants are more effective than those of the control group, and implementing either of them would result in a rise of average time spent.\n",
    "- Variant A had a higher t-statistic than variant B, suggesting that the magnitude of difference between that feature and the control group was higher.\n",
    "- Variant A also had the smallest p-value, meaning that there is very strong evidence in favour of accepting the alternative hypothesis.\n",
    "\n",
    "CTR by variant\n",
    "- Both variant A and variant B demonstrated that they have succesfully influenced users to click through more features on the mobile application.\n",
    "- This means that the features of both variants are more effective than those of the control group, and implementing either of them would result in a rise of the CTR.\n",
    "- Variant A had a higher t-statistic than variant B, suggesting that the magnitude of difference between that feature and the control group was higher.\n",
    "- Variant A also had the smallest p-value, meaning that there is very strong evidence in favour of accepting the alternative hypothesis.\n",
    "\n",
    "In conclusion, there is strong evidence based on the tests conducted that there is a statistically significant difference between the features and the control group.\n"
   ]
  },
  {
   "attachments": {},
   "cell_type": "markdown",
   "metadata": {},
   "source": [
    "Question 3."
   ]
  },
  {
   "attachments": {},
   "cell_type": "markdown",
   "metadata": {},
   "source": [
    "According to the statistical analysis that has been conducted, we have been able to draw the following conclusions:\n",
    "- Exposure to both variant A and variant B influenced the behaviour of users. The features caused them to spend more time on average looking through the mobile application and increased their click-through-rate (CTR) when compared to the control group. This is supported through the use of t-tests, in which the resulting p-values were well below the designated threshold of 0.05, meaning that the results are very statistically significant.\n",
    "\n",
    "- Through these tests, we also observed that variant A appears to influence the behaviours of users more successfully than variant B, meaning that they spent more time on average on the mobile application and had a higher CTR. This was determined due to the fact that in tests comparing both average time spent and CTR, variant A demonstrated higher t-statistics and p-values than variant B. This means that there was a larger magnitude of difference between variant A and the control group, as well as a very statiscially significant result in favour of accepting the alternate hypothesis: that there is a statisically significant difference between the two features and the control group in terms of average time spent (and CTR respectively).\n",
    "\n",
    "- To confirm that the difference between the 2 variants was also statistically significant, we conducted another t-test to compare variant A and variant B. The results of this test yielded a p-value lower than 0.05, confirming that the difference is meaningful. \n",
    "\n",
    "- Therefore, based on solely statistical analysis (and not considering other business factors such as cost, retention rate, etc.) we are recommending to the engineering team that the features of variant A should be deployed to the users of the mobile application. This will result in the highest increase in the metrics of average time spent and CTR and will help to make the mobile app more successful than implementing the features of variant B or keeping them the same, as in the control group."
   ]
  },
  {
   "attachments": {},
   "cell_type": "markdown",
   "metadata": {},
   "source": [
    "Question 4.\n",
    "\n",
    "- As seen in the beginning of the analysis, metrics such as age, device type, and location do not have a significant effect on average time spent or CTR, these do not have to be taken into account when introducing the features of variant A to users of the mobile application.\n",
    "- Therefore, the company will be able to roll-out variant A relatively quickly, which will be beneifical to the company as there has been strong evidence demonstrated that it is successful in increasing average time spent and click-through-rate.\n",
    "- However, several factors should be taken into account such as:\n",
    "    - Would the potential risks be too high if all users are changed to the features of variant A right away? \n",
    "    - Can the features of variant A handle a large, immediate increase in users?\n",
    "    - If every user of the mobile application were transferred to the features of variant A immediately, will it be too difficult to continue monitoring performance and troubleshooting potential issues?\n",
    "\n",
    "\n",
    " Due to the points mentioned above, users will be transferred in phases and the recommended roll-out plan is as follows::\n",
    "- First, users that were exposed to variant B will be changed to the features of variant A. This will be done as soon as possible so that the benefits of the new features can be realized quickly and so those users do not become attached to the features of variant B.\n",
    "- The company will then continue to monitor the success of the transition and deal with any issues that may occur afterwards.\n",
    "- Keeping the control group for several more weeks will assist in confirming that variant A provides the most success in terms of average time spent and CTR.\n",
    "- The features of variant A are still new, so the company can also allow users to offer feedback and report any bugs that may be introduced with the roll-out of variant A in order to ensure the user base has a positive experience using the new features. This will also help minimize the chance that there are any issues with the new features when it is introduced to all users.\n",
    "- Next, an announcement will be made to the entire user base that the features of variant A will be permanently introduced to all of those using the mobile application. Ensure that the benefits of the new features are clearly explained and shown to users in order to generate excitement. Maintain transparency with the user base and answer any quesitons or concerns that arise.\n",
    "- After the announcement phase, the users that have remained in the control group will be transitioned to the features of variant A.\n",
    "\n",
    "- Post roll-out, the company will need to continously monitor and test the success of the new features to ensure they are still contributing to the success of the company. \n",
    "\n",
    "\n",
    "\n",
    "\n"
   ]
  }
 ],
 "metadata": {
  "kernelspec": {
   "display_name": "Python 3",
   "language": "python",
   "name": "python3"
  },
  "language_info": {
   "codemirror_mode": {
    "name": "ipython",
    "version": 3
   },
   "file_extension": ".py",
   "mimetype": "text/x-python",
   "name": "python",
   "nbconvert_exporter": "python",
   "pygments_lexer": "ipython3",
   "version": "3.11.3"
  },
  "orig_nbformat": 4
 },
 "nbformat": 4,
 "nbformat_minor": 2
}
