{
 "cells": [
  {
   "cell_type": "code",
   "execution_count": null,
   "metadata": {},
   "outputs": [],
   "source": [
    "import gurobipy as gb\n",
    "from gurobipy import GRB\n",
    "# Create a new model\n",
    "model = gb.Model(\"Covering Problem\")\n",
    "# Variables\n",
    "x = model.addVars(16, vtype=GRB.BINARY, name=\"Region\")\n",
    "# Objective function\n",
    "objective = gb.quicksum(x[i] for i in range(16))\n",
    "model.setObjective(objective, GRB.MINIMIZE)\n",
    "# Constraints\n",
    "model.addConstr(x[0] + x[1] + x[3] + x[4] >= 1, \"Covering 1\")\n",
    "model.addConstr(x[0] + x[1] + x[2] + x[4] + x[5] >= 1, \"Covering 2\")\n",
    "model.addConstr(x[1] + x[2] + x[5] + x[6] >= 1, \"Covering 3\")\n",
    "model.addConstr(x[0] + x[3] + x[4] + x[7] + x[9] + x[10] >= 1, \"Covering 4\")\n",
    "model.addConstr(x[0] + x[1] + x[3] + x[4] + x[5] + x[7] >= 1, \"Covering 5\")\n",
    "model.addConstr(x[1] + x[2] + x[4] + x[5] + x[6] + x[7] + x[8] >= 1, \"Covering 6\")\n",
    "model.addConstr(x[2] + x[5] + x[6] + x[8] + x[12] >= 1, \"Covering 7\")\n",
    "model.addConstr(x[3] + x[4] + x[5] + x[7] + x[8] + x[10] + x[11] >= 1, \"Covering\n",
    "8\")\n",
    "model.addConstr(x[5] + x[6] + x[7] + x[8] + x[11] + x[12] >= 1, \"Covering 9\")\n",
    "model.addConstr(x[3] + x[9] + x[10] + x[13] >= 1, \"Covering 10\")\n",
    "model.addConstr(x[3] + x[7] + x[9] + x[10] + x[11] + x[13] >= 1, \"Covering 11\")\n",
    "model.addConstr(x[7] + x[8] + x[10] + x[11] + x[12] + x[14] >= 1, \"Covering 12\")\n",
    "model.addConstr(x[6] + x[8] + x[11] + x[12] + x[14] + x[15] >= 1, \"Covering 13\")\n",
    "model.addConstr(x[9] + x[10] + x[13] + x[14] >= 1, \"Covering 14\")\n",
    "model.addConstr(x[11] + x[12] + x[13] + x[14] + x[15] >= 1, \"Covering 15\")\n",
    "model.addConstr(x[12] + x[14] + x[15] >= 1, \"Covering 16\")\n",
    "# Optimize the model\n",
    "model.optimize()\n",
    "# Print the optimal solution\n",
    "if model.status == GRB.OPTIMAL:\n",
    "print(\"Optimal solution:\")\n",
    "for i, var in x.items():\n",
    "print(f\"x{i} = {var.x}\")\n",
    "print(\"Number of Fire Stations\", model.ObjVal)\n",
    "else:\n",
    "print(\"No solution found.\")\n"
   ]
  }
 ],
 "metadata": {
  "language_info": {
   "name": "python"
  }
 },
 "nbformat": 4,
 "nbformat_minor": 2
}
