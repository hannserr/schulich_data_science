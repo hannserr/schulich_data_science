{
 "cells": [
  {
   "cell_type": "code",
   "execution_count": 2,
   "metadata": {},
   "outputs": [
    {
     "name": "stdout",
     "output_type": "stream",
     "text": [
      "Set parameter Username\n",
      "Academic license - for non-commercial use only - expires 2025-01-15\n",
      "Gurobi Optimizer version 11.0.0 build v11.0.0rc2 (win64 - Windows 11+.0 (22631.2))\n",
      "\n",
      "CPU model: 12th Gen Intel(R) Core(TM) i5-12500H, instruction set [SSE2|AVX|AVX2]\n",
      "Thread count: 12 physical cores, 16 logical processors, using up to 16 threads\n",
      "\n",
      "Optimize a model with 33 rows, 24 columns and 66 nonzeros\n",
      "Model fingerprint: 0x9d0b997e\n",
      "Model has 12 quadratic objective terms\n",
      "Variable types: 12 continuous, 12 integer (0 binary)\n",
      "Coefficient statistics:\n",
      "  Matrix range     [4e-01, 1e+00]\n",
      "  Objective range  [0e+00, 0e+00]\n",
      "  QObjective range [2e+00, 2e+00]\n",
      "  Bounds range     [0e+00, 0e+00]\n",
      "  RHS range        [1e+01, 1e+02]\n",
      "Found heuristic solution: objective 3750.0000000\n",
      "Presolve removed 26 rows and 16 columns\n",
      "Presolve time: 0.02s\n",
      "Presolved: 16 rows, 13 columns, 35 nonzeros\n",
      "Presolved model has 4 bilinear constraint(s)\n",
      "\n",
      "Solving non-convex MIQCP\n",
      "\n",
      "Found heuristic solution: objective 13749.801587\n",
      "Variable types: 5 continuous, 8 integer (0 binary)\n",
      "\n",
      "Root relaxation: objective 2.789980e+04, 12 iterations, 0.00 seconds (0.00 work units)\n",
      "\n",
      "    Nodes    |    Current Node    |     Objective Bounds      |     Work\n",
      " Expl Unexpl |  Obj  Depth IntInf | Incumbent    BestBd   Gap | It/Node Time\n",
      "\n",
      "     0     0 27899.8016    0    4 13749.8016 27899.8016   103%     -    0s\n",
      "H    0     0                    20824.801587 27899.8016  34.0%     -    0s\n",
      "     0     0          -    0      20824.8016 20826.4683  0.01%     -    0s\n",
      "\n",
      "Cutting planes:\n",
      "  RLT: 8\n",
      "\n",
      "Explored 1 nodes (19 simplex iterations) in 0.06 seconds (0.00 work units)\n",
      "Thread count was 16 (of 16 available processors)\n",
      "\n",
      "Solution count 3: 20824.8 13749.8 3750 \n",
      "\n",
      "Optimal solution found (tolerance 1.00e-04)\n",
      "Best objective 2.082480158730e+04, best bound 2.082646825397e+04, gap 0.0080%\n"
     ]
    },
    {
     "name": "stdout",
     "output_type": "stream",
     "text": [
      "Snowsuit Prices from January to April: \n",
      " ['80.00', '80.00', '30.00', '15.00']\n",
      "Jacket Prices from January to April: \n",
      " ['85.71', '50.00', '40.00', '27.78']\n",
      "Snow Pant Prices from January to April: \n",
      " ['50.00', '50.00', '50.00', '12.50']\n"
     ]
    }
   ],
   "source": [
    "from gurobipy import GRB\n",
    "import gurobipy as gb\n",
    "# Linear price response functions (intercept, slope)\n",
    "snowsuit = [[80, 0.5], [80, 0.5], [30, 0.5], [30, 1.0]]\n",
    "jacket = [[120, 0.7], [90, 0.9], [80, 1.0], [50, 0.9]]\n",
    "snowpants = [[50, 0.8], [70, 0.4], [40, 0.4], [10, 0.4]]\n",
    "# Create a new optimization model to maximize revenue\n",
    "model = gb.Model(\"Markdown Optimization\")\n",
    "# Construct the decision variables\n",
    "p = model.addVars(3,4, lb=0, vtype=GRB.CONTINUOUS, name=\"Price\")\n",
    "d = model.addVars(3,4, lb=0, vtype=GRB.INTEGER, name=\"Month Demand\")\n",
    "#Objective Function\n",
    "model.setObjective(gb.quicksum(p[i,n]*d[i,n] for i in range(3) for n in range(4)),\n",
    "GRB.MAXIMIZE)\n",
    "# Define the demand constraints\n",
    "for n in range(4):\n",
    "    model.addConstr(d[0,n] == snowsuit[n][0] - snowsuit[n][1]*p[0,n], \"Demand Definition Snowsuits\")\n",
    "    model.addConstr(d[1,n] == jacket[n][0] - jacket[n][1]*p[1,n], \"Demand Definition Jackets\")\n",
    "    model.addConstr(d[2,n] == snowpants[n][0] - snowpants[n][1]*p[2,n], \"Demand Definition Snow Pants\")\n",
    "# Demand must not exceed the number we have in stock\n",
    "    model.addConstr(d[0,n] == snowsuit[n][0] - snowsuit[n][1]*p[0,n], \"Demand Definition Snowsuits\")\n",
    "    model.addConstr(d[1,n] == jacket[n][0] - jacket[n][1]*p[1,n], \"Demand Definition Jackets\")\n",
    "    model.addConstr(d[2,n] == snowpants[n][0] - snowpants[n][1]*p[2,n], \"Demand Definition Snow Pants\")\n",
    "# Prices must be marked down month-over-month\n",
    "model.addConstrs((p[i,n] <= p[i,n-1] for i in range(3) for n in range(1,4)),\n",
    "\"Markdown Constraint\")\n",
    "# Solve our model\n",
    "model.optimize()\n",
    "# Price of snowsuits\n",
    "print(\"Snowsuit Prices from January to April: \\n\", ['%.2f' % p[0,n].x for n in\n",
    "range(4)])\n",
    "print(\"Jacket Prices from January to April: \\n\", ['%.2f' % p[1,n].x for n in\n",
    "range(4)])\n",
    "print(\"Snow Pant Prices from January to April: \\n\", ['%.2f' % p[2,n].x for n in\n",
    "range(4)])\n"
   ]
  },
  {
   "cell_type": "code",
   "execution_count": null,
   "metadata": {},
   "outputs": [],
   "source": []
  }
 ],
 "metadata": {
  "kernelspec": {
   "display_name": "Python 3",
   "language": "python",
   "name": "python3"
  },
  "language_info": {
   "codemirror_mode": {
    "name": "ipython",
    "version": 3
   },
   "file_extension": ".py",
   "mimetype": "text/x-python",
   "name": "python",
   "nbconvert_exporter": "python",
   "pygments_lexer": "ipython3",
   "version": "3.11.3"
  }
 },
 "nbformat": 4,
 "nbformat_minor": 2
}
