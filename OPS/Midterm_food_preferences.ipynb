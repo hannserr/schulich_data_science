{
 "cells": [
  {
   "cell_type": "code",
   "execution_count": 3,
   "metadata": {},
   "outputs": [],
   "source": [
    "from gurobipy import GRB, Model, quicksum\n",
    "import gurobipy as gb\n",
    "import pandas as pd"
   ]
  },
  {
   "cell_type": "code",
   "execution_count": 4,
   "metadata": {},
   "outputs": [],
   "source": [
    "food_categories_df = pd.read_csv('https://raw.githubusercontent.com/hannserr/schulich_data_science/main/food_categories.csv')\n",
    "food_preferences_df = pd.read_csv('https://raw.githubusercontent.com/hannserr/schulich_data_science/main/food_preferences2.csv')\n",
    "nutrient_requirements_df = pd.read_csv('https://raw.githubusercontent.com/hannserr/schulich_data_science/main/nutrient_requirements.csv')\n",
    "nutrient_content_df = pd.read_csv('https://raw.githubusercontent.com/hannserr/schulich_data_science/main/nutrient_content.csv')"
   ]
  },
  {
   "cell_type": "code",
   "execution_count": 17,
   "metadata": {},
   "outputs": [
    {
     "name": "stdout",
     "output_type": "stream",
     "text": [
      "Gurobi Optimizer version 11.0.0 build v11.0.0rc2 (win64 - Windows 11+.0 (22631.2))\n",
      "\n",
      "CPU model: 12th Gen Intel(R) Core(TM) i5-12500H, instruction set [SSE2|AVX|AVX2]\n",
      "Thread count: 12 physical cores, 16 logical processors, using up to 16 threads\n",
      "\n",
      "Optimize a model with 245 rows, 121 columns and 14928 nonzeros\n",
      "Model fingerprint: 0x7a79486f\n",
      "Coefficient statistics:\n",
      "  Matrix range     [1e-03, 1e+00]\n",
      "  Objective range  [5e-02, 2e-01]\n",
      "  Bounds range     [0e+00, 0e+00]\n",
      "  RHS range        [2e+03, 6e+05]\n",
      "Presolve removed 182 rows and 1 columns\n",
      "Presolve time: 0.01s\n",
      "Presolved: 63 rows, 180 columns, 7464 nonzeros\n",
      "\n",
      "Iteration    Objective       Primal Inf.    Dual Inf.      Time\n",
      "       0    0.0000000e+00   2.370451e+04   0.000000e+00      0s\n",
      "\n",
      "Solved in 43 iterations and 0.02 seconds (0.01 work units)\n",
      "Infeasible model\n",
      "No optimal solution found.\n"
     ]
    }
   ],
   "source": [
    "# Create the model\n",
    "model = gb.Model(\"Optimum Diet\")\n",
    "\n",
    "# Food items/categories\n",
    "food_items = food_categories_df['Food_Item'].tolist()\n",
    "cost_per_gram = food_categories_df['Cost_per_gram'].tolist()\n",
    "\n",
    "# Nutrient requirements\n",
    "names_nutrients = nutrient_requirements_df['Nutrient'].tolist()\n",
    "min_requirements = nutrient_requirements_df['Min_Requirement'].tolist()\n",
    "max_requirements = nutrient_requirements_df['Max_Requirement'].tolist()\n",
    "\n",
    "# Hardcoded dietary preference requirements\n",
    "diet_total = {\n",
    "    'Vegetarian': 46160,\n",
    "    'Vegan': 11540,\n",
    "    'Kosher': 17310,\n",
    "    'Halal': 92320,\n",
    "    'All': 577000\n",
    "}\n",
    "\n",
    "# Hardcoded dietary preferences\n",
    "diet_preferences = ['Vegetarian', 'Vegan', 'Halal', 'Kosher', 'All']\n",
    "\n",
    "# Decision variables\n",
    "food_quantities = model.addVars(food_items, lb=0, vtype=GRB.CONTINUOUS, name=\"Food\")\n",
    "total_diet_quantity = model.addVar(lb=0, vtype=GRB.CONTINUOUS, name=\"TotalDietQuantity\")\n",
    "\n",
    "# Dietary preference constraints\n",
    "for preference in diet_preferences:\n",
    "    if preference == 'All':\n",
    "        # Sum of quantities of all food items should not exceed the total for 'All' preference\n",
    "        model.addConstr(gb.quicksum(food_quantities[food] for food in food_items) <= diet_total[preference], f\"Total_{preference}\")\n",
    "    else:\n",
    "        # Check if the preference column exists in the food categories DataFrame\n",
    "        if f'Is_{preference}' in food_categories_df.columns:\n",
    "            # Create a filtered list of food items for each specific dietary preference\n",
    "            food_list = food_categories_df[food_categories_df[f'Is_{preference}'] == True]['Food_Item'].tolist()  # Extract food items\n",
    "            # Sum of quantities of food items in the specific dietary list should not exceed the total for that preference\n",
    "            model.addConstr(gb.quicksum(food_quantities[food] for food in food_list) <= diet_total[preference], f\"Total_{preference}\")\n",
    "        else:\n",
    "            print(f\"Error: 'Is_{preference}' column not found in food categories DataFrame.\")\n",
    "\n",
    "# Nutritional balance constraints\n",
    "for i, nutrient in enumerate(names_nutrients):\n",
    "    model.addConstr(gb.quicksum(nutrient_content_df.loc[j, nutrient] * food_quantities[food] for j, food in enumerate(food_items)) >= min_requirements[i], f\"Min_{nutrient}\")\n",
    "    model.addConstr(gb.quicksum(nutrient_content_df.loc[j, nutrient] * food_quantities[food] for j, food in enumerate(food_items)) <= max_requirements[i], f\"Max_{nutrient}\")\n",
    "\n",
    "# Variety constraint\n",
    "for food in food_items:\n",
    "    model.addConstr(food_quantities[food] <= 0.03 * total_diet_quantity, f\"Variety_{food}\")\n",
    "\n",
    "# Objective function: Minimize total cost\n",
    "model.setObjective(gb.quicksum(cost_per_gram[i] * food_quantities[food] for i, food in enumerate(food_items)), GRB.MINIMIZE)\n",
    "\n",
    "# Optimize the model\n",
    "model.optimize()\n",
    "\n",
    "# Print the solution\n",
    "if model.Status == GRB.OPTIMAL:\n",
    "    print(\"Optimal solution found:\")\n",
    "    for food in food_items:\n",
    "        quantity = food_quantities[food].X\n",
    "        if quantity > 0:\n",
    "            print(f\"{food}: {quantity} grams\")\n",
    "else:\n",
    "    print(\"No optimal solution found.\")\n"
   ]
  },
  {
   "cell_type": "code",
   "execution_count": null,
   "metadata": {},
   "outputs": [],
   "source": []
  }
 ],
 "metadata": {
  "kernelspec": {
   "display_name": "Python 3",
   "language": "python",
   "name": "python3"
  },
  "language_info": {
   "codemirror_mode": {
    "name": "ipython",
    "version": 3
   },
   "file_extension": ".py",
   "mimetype": "text/x-python",
   "name": "python",
   "nbconvert_exporter": "python",
   "pygments_lexer": "ipython3",
   "version": "3.11.3"
  }
 },
 "nbformat": 4,
 "nbformat_minor": 2
}
