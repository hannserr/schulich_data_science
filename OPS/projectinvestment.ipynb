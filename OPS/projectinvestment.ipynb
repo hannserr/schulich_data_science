{
 "cells": [
  {
   "cell_type": "code",
   "execution_count": 1,
   "metadata": {},
   "outputs": [
    {
     "name": "stdout",
     "output_type": "stream",
     "text": [
      "Set parameter Username\n",
      "Academic license - for non-commercial use only - expires 2025-01-15\n",
      "Gurobi Optimizer version 11.0.0 build v11.0.0rc2 (win64 - Windows 11+.0 (22631.2))\n",
      "\n",
      "CPU model: 12th Gen Intel(R) Core(TM) i5-12500H, instruction set [SSE2|AVX|AVX2]\n",
      "Thread count: 12 physical cores, 16 logical processors, using up to 16 threads\n",
      "\n",
      "Optimize a model with 7 rows, 6 columns and 24 nonzeros\n",
      "Model fingerprint: 0x0aae51f7\n",
      "Variable types: 0 continuous, 6 integer (6 binary)\n",
      "Coefficient statistics:\n",
      "  Matrix range     [1e+00, 7e+00]\n",
      "  Objective range  [8e+00, 2e+01]\n",
      "  Bounds range     [1e+00, 1e+00]\n",
      "  RHS range        [1e+00, 1e+01]\n",
      "Presolve removed 7 rows and 6 columns\n",
      "Presolve time: 0.00s\n",
      "Presolve: All rows and columns removed\n",
      "\n",
      "Explored 0 nodes (0 simplex iterations) in 0.02 seconds (0.00 work units)\n",
      "Thread count was 1 (of 16 available processors)\n",
      "\n",
      "Solution count 1: 43 \n",
      "\n",
      "Optimal solution found (tolerance 1.00e-04)\n",
      "Best objective 4.300000000000e+01, best bound 4.300000000000e+01, gap 0.0000%\n",
      "Optimal objective value:  43.0\n",
      "Optimal solution:\n",
      "x0 = 1.0\n",
      "x1 = 0.0\n",
      "x2 = 0.0\n",
      "x3 = 1.0\n",
      "x4 = 0.0\n",
      "x5 = 1.0\n",
      "No solution found.\n"
     ]
    }
   ],
   "source": [
    "import gurobipy as gb\n",
    "from gurobipy import GRB\n",
    "# Create a new model\n",
    "model = gb.Model(\"Project Investment\")\n",
    "# Variables\n",
    "x = model.addVars(6, vtype=GRB.BINARY, name=\"Project\")\n",
    "# Objective function\n",
    "objective = 16 * x[0] + 22 * x[1] + 12 * x[2] + 8 * x[3] + 11 * x[4] + 19 * x[5]\n",
    "model.setObjective(objective, GRB.MAXIMIZE)\n",
    "# Constraints\n",
    "model.addConstr(5 * x[0] + 7 * x[1] + 4 * x[2] + 3 * x[3] + 4 * x[4] + 6 * x[5] <=\n",
    "14, \"Cash_Constraint\")\n",
    "model.addConstr(x[0] + x[1] + x[2] + x[3] + x[4] + x[5] == 3,\n",
    "\"Logical_Constraint1\")\n",
    "model.addConstr(x[1] <= x[0], \"Logical_Constraint2\")\n",
    "model.addConstr(x[0] + x[2] <= 1, \"Logical_Constraint3\")\n",
    "model.addConstr(x[3] + x[4] == 1, \"Logical_Constraint4\")\n",
    "model.addConstr(x[0] + x[1] <= 1 + x[2], \"Logical_Constraint5\")\n",
    "model.addConstr(1 <= x[5] + x[3] + x[4], \"Logical_Constraint6\")\n",
    "# Optimize the model\n",
    "model.optimize()\n",
    "# Print the optimal solution\n",
    "if model.status == GRB.OPTIMAL:\n",
    "    print(\"Optimal objective value: \", model.objVal)\n",
    "    print(\"Optimal solution:\")\n",
    "for i, var in x.items():\n",
    "    print(f\"x{i} = {var.x}\")\n",
    "else:\n",
    "    print(\"No solution found.\")\n"
   ]
  },
  {
   "cell_type": "code",
   "execution_count": null,
   "metadata": {},
   "outputs": [],
   "source": []
  }
 ],
 "metadata": {
  "kernelspec": {
   "display_name": "Python 3",
   "language": "python",
   "name": "python3"
  },
  "language_info": {
   "codemirror_mode": {
    "name": "ipython",
    "version": 3
   },
   "file_extension": ".py",
   "mimetype": "text/x-python",
   "name": "python",
   "nbconvert_exporter": "python",
   "pygments_lexer": "ipython3",
   "version": "3.11.3"
  }
 },
 "nbformat": 4,
 "nbformat_minor": 2
}
