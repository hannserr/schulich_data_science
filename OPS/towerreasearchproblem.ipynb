{
 "cells": [
  {
   "cell_type": "code",
   "execution_count": null,
   "metadata": {},
   "outputs": [],
   "source": [
    "from gurobipy import GRB\n",
    "import gurobipy as gb\n",
    "# Create the optimization model\n",
    "model = gb.Model(\"Tower Research\")\n",
    "# Create the three classes of decision variables where each Python\n",
    "# variable represents a different number of Gurobi decision variables\n",
    "I = model.addVars(2, lb=0, vtype=GRB.CONTINUOUS, name=\"Invest\")\n",
    "B = model.addVars(3, lb=0, vtype=GRB.CONTINUOUS, name=\"Borrow\")\n",
    "w = model.addVars(4, lb=0, vtype=GRB.CONTINUOUS, name=\"Wealth\")\n",
    "# The objective function\n",
    "model.setObjective(w[3], GRB.MAXIMIZE)\n",
    "# Add the constraints\n",
    "model.addConstr(w[0] == 4000 + 1000 + B[0] - 1200 - I[0], \"Period 1 Constraint\")\n",
    "model.addConstr(w[1] == w[0] + B[1] + 4400 - 1.03*B[0] - 4800 - I[1], \"Period 1\n",
    "Constraint\")\n",
    "model.addConstr(w[2] == w[1] + B[2] + 5800 + 1.02*I[0] - 4212 - 1.03*B[1], \"Period\n",
    "2 Constraint\")\n",
    "model.addConstr(w[3] == w[2] + 3000 + 1.02*I[1] - 1000 - 1.03*B[2], \"Period 3\n",
    "Constraint\")\n",
    "# We could also define these constraints as upper bounds in the definition of the\n",
    "decision variables\n",
    "for t in range(3):\n",
    "model.addConstr(B[t] <= 3000, \"Borrowing Constraint %i\" % t)\n",
    "# Optimally solve the problem\n",
    "model.optimize()\n",
    "# Number of constraints in the model\n",
    "print(\"Number of Constraints: \", model.numConstrs)\n",
    "# The status of the model\n",
    "print(\"Model Status: \", model.status)\n",
    "# Value of the objective function\n",
    "print(\"Total costs: \", model.objVal)\n",
    "# Print the decision variables\n",
    "print(model.printAttr('X'))\n"
   ]
  }
 ],
 "metadata": {
  "language_info": {
   "name": "python"
  }
 },
 "nbformat": 4,
 "nbformat_minor": 2
}
