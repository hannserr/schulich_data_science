{
 "cells": [
  {
   "cell_type": "code",
   "execution_count": 1,
   "metadata": {},
   "outputs": [],
   "source": [
    "from gurobipy import GRB\n",
    "import gurobipy as gb\n"
   ]
  },
  {
   "cell_type": "code",
   "execution_count": 4,
   "metadata": {},
   "outputs": [
    {
     "name": "stdout",
     "output_type": "stream",
     "text": [
      "Set parameter Username\n",
      "Academic license - for non-commercial use only - expires 2025-01-15\n"
     ]
    },
    {
     "ename": "TypeError",
     "evalue": "bad operand type for abs(): 'TempConstr'",
     "output_type": "error",
     "traceback": [
      "\u001b[1;31m---------------------------------------------------------------------------\u001b[0m",
      "\u001b[1;31mTypeError\u001b[0m                                 Traceback (most recent call last)",
      "Cell \u001b[1;32mIn[4], line 32\u001b[0m\n\u001b[0;32m     29\u001b[0m model\u001b[38;5;241m.\u001b[39maddConstrs(gb\u001b[38;5;241m.\u001b[39mquicksum(x[w,b] \u001b[38;5;28;01mfor\u001b[39;00m b \u001b[38;5;129;01min\u001b[39;00m \u001b[38;5;28mrange\u001b[39m(B)) \u001b[38;5;241m<\u001b[39m\u001b[38;5;241m=\u001b[39m supply[w] \u001b[38;5;28;01mfor\u001b[39;00m w \u001b[38;5;129;01min\u001b[39;00m\n\u001b[0;32m     30\u001b[0m \u001b[38;5;28mrange\u001b[39m(W))\n\u001b[0;32m     31\u001b[0m \u001b[38;5;66;03m# The absolute value of the difference in the inventory supplied to the bars\u001b[39;00m\n\u001b[1;32m---> 32\u001b[0m model\u001b[38;5;241m.\u001b[39maddConstr(\u001b[38;5;28;43mabs\u001b[39;49m\u001b[43m(\u001b[49m\u001b[43mgb\u001b[49m\u001b[38;5;241;43m.\u001b[39;49m\u001b[43mquicksum\u001b[49m\u001b[43m(\u001b[49m\u001b[43mx\u001b[49m\u001b[43m[\u001b[49m\u001b[38;5;241;43m0\u001b[39;49m\u001b[43m,\u001b[49m\u001b[43mb\u001b[49m\u001b[43m]\u001b[49m\u001b[43m \u001b[49m\u001b[38;5;28;43;01mfor\u001b[39;49;00m\u001b[43m \u001b[49m\u001b[43mb\u001b[49m\u001b[43m \u001b[49m\u001b[38;5;129;43;01min\u001b[39;49;00m\u001b[43m \u001b[49m\u001b[38;5;28;43mrange\u001b[39;49m\u001b[43m(\u001b[49m\u001b[43mB\u001b[49m\u001b[43m)\u001b[49m\u001b[43m)\u001b[49m\u001b[43m \u001b[49m\u001b[38;5;241;43m-\u001b[39;49m\u001b[43m \u001b[49m\u001b[43mgb\u001b[49m\u001b[38;5;241;43m.\u001b[39;49m\u001b[43mquicksum\u001b[49m\u001b[43m(\u001b[49m\u001b[43mx\u001b[49m\u001b[43m[\u001b[49m\u001b[38;5;241;43m1\u001b[39;49m\u001b[43m,\u001b[49m\u001b[43mb\u001b[49m\u001b[43m]\u001b[49m\n\u001b[0;32m     33\u001b[0m \u001b[38;5;28;43;01mfor\u001b[39;49;00m\u001b[43m \u001b[49m\u001b[43mb\u001b[49m\u001b[43m \u001b[49m\u001b[38;5;129;43;01min\u001b[39;49;00m\u001b[43m \u001b[49m\u001b[38;5;28;43mrange\u001b[39;49m\u001b[43m(\u001b[49m\u001b[43mB\u001b[49m\u001b[43m)\u001b[49m\u001b[43m)\u001b[49m\u001b[43m \u001b[49m\u001b[38;5;241;43m<\u001b[39;49m\u001b[38;5;241;43m=\u001b[39;49m\u001b[43m \u001b[49m\u001b[43mmax_diff\u001b[49m\u001b[43m)\u001b[49m)\n\u001b[0;32m     34\u001b[0m model\u001b[38;5;241m.\u001b[39maddConstr(gb\u001b[38;5;241m.\u001b[39mquicksum(x[\u001b[38;5;241m0\u001b[39m,b] \u001b[38;5;28;01mfor\u001b[39;00m b \u001b[38;5;129;01min\u001b[39;00m \u001b[38;5;28mrange\u001b[39m(B)) \u001b[38;5;241m-\u001b[39m gb\u001b[38;5;241m.\u001b[39mquicksum(x[\u001b[38;5;241m1\u001b[39m,b] \u001b[38;5;28;01mfor\u001b[39;00m b \u001b[38;5;129;01min\u001b[39;00m\n\u001b[0;32m     35\u001b[0m \u001b[38;5;28mrange\u001b[39m(B)) \u001b[38;5;241m<\u001b[39m\u001b[38;5;241m=\u001b[39m max_diff)\n\u001b[0;32m     36\u001b[0m model\u001b[38;5;241m.\u001b[39maddConstr(gb\u001b[38;5;241m.\u001b[39mquicksum(x[\u001b[38;5;241m1\u001b[39m,b] \u001b[38;5;28;01mfor\u001b[39;00m b \u001b[38;5;129;01min\u001b[39;00m \u001b[38;5;28mrange\u001b[39m(B)) \u001b[38;5;241m-\u001b[39m gb\u001b[38;5;241m.\u001b[39mquicksum(x[\u001b[38;5;241m0\u001b[39m,b] \u001b[38;5;28;01mfor\u001b[39;00m b \u001b[38;5;129;01min\u001b[39;00m\n\u001b[0;32m     37\u001b[0m \u001b[38;5;28mrange\u001b[39m(B)) \u001b[38;5;241m<\u001b[39m\u001b[38;5;241m=\u001b[39m max_diff)\n",
      "\u001b[1;31mTypeError\u001b[0m: bad operand type for abs(): 'TempConstr'"
     ]
    }
   ],
   "source": [
    "# Maximum difference between inventory positions of the warehouses\n",
    "max_diff = 1200\n",
    "# The supply nodes (i.e., the warehouses)\n",
    "W = 2\n",
    "# Creates a list that has the number of units of supply for each supply node\n",
    "supply = [7000, 8000]\n",
    "# The demand nodes\n",
    "B = 7\n",
    "# Creates a list for the number of units of demand for each demand node\n",
    "demand = [1000, 1800, 3600, 400, 1400, 2500, 2000]\n",
    "# Creates a list of lists associated with the costs of each transportation path.\n",
    "# From warehouse i = {A,B} to bar j = {1,2,3,4,5,6,7}.\n",
    "costs = [\n",
    "#Bars: 1 2 3 4 5 6 7\n",
    "[2.00,4.00,5.00,2.00,1.00,2.50,1.90],#A Warehouses\n",
    "[3.00,1.00,3.00,2.00,3.00,1.75,1.60] #B\n",
    "]\n",
    "# Instantiate our optimization problem in\n",
    "model = gb.Model(\"Linearize Absolute Value Constraint\")\n",
    "#Construct decision variables for each class of decision variables\n",
    "x = model.addVars(W, B, lb = 0, vtype=GRB.INTEGER, name=\"Transportation\")\n",
    "# Add the objective function to the optimization problem\n",
    "model.setObjective(gb.quicksum(x[w,b]*costs[w][b] for w in range(W) for b in\n",
    "range(B)), GRB.MINIMIZE)\n",
    "# The demand minimum constraints are added to the milp variable for each demandnode(bar)\n",
    "model.addConstrs(gb.quicksum(x[w,b] for w in range(W)) == demand[b] for b in\n",
    "range(B))\n",
    "# The supply maximum constraints are added to the milp variable for each supply node (warehouse)\n",
    "model.addConstrs(gb.quicksum(x[w,b] for b in range(B)) <= supply[w] for w in\n",
    "range(W))\n",
    "# The absolute value of the difference in the inventory supplied to the bars\n",
    "model.addConstr(abs(gb.quicksum(x[0,b] for b in range(B)) - gb.quicksum(x[1,b]\n",
    "for b in range(B)) <= max_diff))\n",
    "model.addConstr(gb.quicksum(x[0,b] for b in range(B)) - gb.quicksum(x[1,b] for b in\n",
    "range(B)) <= max_diff)\n",
    "model.addConstr(gb.quicksum(x[1,b] for b in range(B)) - gb.quicksum(x[0,b] for b in\n",
    "range(B)) <= max_diff)\n",
    "# Optimally solve the problem\n",
    "model.optimize()\n",
    "# Each of the variables is printed with it's resolved optimum value\n",
    "total_supply = [0,0]\n",
    "for v in model.getVars():\n",
    "    if (\"[0,\" in v.varName):\n",
    "        total_supply[0] += v.x\n",
    "else:\n",
    "    total_supply[1] += v.x\n",
    "# The optimized objective function value is printed to the screen\n",
    "print(\"Total Cost of Transportation = \", model.objVal)\n",
    "print(\"Supply from Warehouse A = \", total_supply[0])\n",
    "print(\"Supply from Warehouse B = \", total_supply[1])\n",
    "print(\"Supply Difference = \", abs(total_supply[0]-total_supply[1]))"
   ]
  },
  {
   "cell_type": "code",
   "execution_count": null,
   "metadata": {},
   "outputs": [],
   "source": []
  }
 ],
 "metadata": {
  "kernelspec": {
   "display_name": "Python 3",
   "language": "python",
   "name": "python3"
  },
  "language_info": {
   "codemirror_mode": {
    "name": "ipython",
    "version": 3
   },
   "file_extension": ".py",
   "mimetype": "text/x-python",
   "name": "python",
   "nbconvert_exporter": "python",
   "pygments_lexer": "ipython3",
   "version": "3.11.3"
  }
 },
 "nbformat": 4,
 "nbformat_minor": 2
}
