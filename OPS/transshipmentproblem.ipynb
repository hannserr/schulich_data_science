{
 "cells": [
  {
   "cell_type": "code",
   "execution_count": 1,
   "metadata": {},
   "outputs": [
    {
     "ename": "SyntaxError",
     "evalue": "unterminated string literal (detected at line 20) (329566200.py, line 20)",
     "output_type": "error",
     "traceback": [
      "\u001b[1;36m  Cell \u001b[1;32mIn[1], line 20\u001b[1;36m\u001b[0m\n\u001b[1;33m    model.addConstr(gb.quicksum(x[0,j] for j in range(4)) <= 200, name=\"Supply\u001b[0m\n\u001b[1;37m                                                                       ^\u001b[0m\n\u001b[1;31mSyntaxError\u001b[0m\u001b[1;31m:\u001b[0m unterminated string literal (detected at line 20)\n"
     ]
    }
   ],
   "source": [
    "from gurobipy import GRB\n",
    "import gurobipy as gb\n",
    "# Create the optimization model\n",
    "model = gb.Model(\"Transshipment Problem\")\n",
    "# A list of list of costs\n",
    "source_costs = [[11, 10, 26, 29], [9, 12, 27, 26]]\n",
    "trans_costs = [[12, 16], [13, 15]]\n",
    "# Create the a single class of decision variables where\n",
    "# From = { , } and To = { , , , }.𝑫𝒂 𝑯𝒐 𝑪𝒉 𝑳𝑨 𝑺𝑭 𝑵𝒀\n",
    "x = model.addVars(2, 4, lb=0, vtype=GRB.CONTINUOUS, name=\"Source Nodes\")\n",
    "# From = { , } and To = { , }.𝑪𝒉 𝑳𝑨 𝑺𝑭 𝑵𝒀\n",
    "y = model.addVars(2, 2, lb=0, vtype=GRB.CONTINUOUS, name=\"Transshipment Nodes\")\n",
    "# The objective function\n",
    "source_objective = gb.quicksum(source_costs[i][j]*x[i,j] for i in range(2) for j in\n",
    "range(4))\n",
    "trans_objective = gb.quicksum(trans_costs[i][j]*y[i,j] for i in range(2) for j in\n",
    "range(2))\n",
    "model.setObjective(source_objective + trans_objective, GRB.MINIMIZE)\n",
    "# Add the supply constraints from source nodes\n",
    "model.addConstr(gb.quicksum(x[0,j] for j in range(4)) <= 200, name=\"Supply\n",
    "Constraint 1\")\n",
    "model.addConstr(gb.quicksum(x[1,j] for j in range(4)) <= 160, name=\"Supply\n",
    "Constraint 2\")\n",
    "# Add the supply constraints from transshipment nodes\n",
    "model.addConstr(gb.quicksum(x[i,0] for i in range(2)) <= 90, name=\"Transship\n",
    "Capacity 1\")\n",
    "model.addConstr(gb.quicksum(x[i,1] for i in range(2)) <= 80, name=\"Transship\n",
    "Capacity 2\")\n",
    "# Add the flow balance constrainits\n",
    "model.addConstr(gb.quicksum(x[i,0] for i in range(2)) == gb.quicksum(y[0,k] for k\n",
    "in range(2)), name=\"Flow Balance 1\")\n",
    "model.addConstr(gb.quicksum(x[i,1] for i in range(2)) == gb.quicksum(y[1,k] for k\n",
    "in range(2)), name=\"Flow Balance 2\")\n",
    "# Add the demand constraints\n",
    "model.addConstr(gb.quicksum(x[i,2] + y[i,0] for i in range(2)) == 140, name=\"Demand\n",
    "Constraint 1\")\n",
    "model.addConstr(gb.quicksum(x[i,3] + y[i,1] for i in range(2)) == 140, name=\"Demand\n",
    "Constraint 2\")\n",
    "# Ratio constraint\n",
    "model.addConstr(0.6*gb.quicksum(y[i,j] for i in range(2) for j in range(2)) <=\n",
    "0.4*gb.quicksum(x[i,j] for i in range(2) for j in range(2,4)), name=\"Ratio\n",
    "constraint\")\n",
    "# Optimally solve the problem\n",
    "model.optimize()\n",
    "# Number of variables in the model\n",
    "print(\"Number of Decision Variables: \", model.numVars)\n",
    "# Value of the objective function\n",
    "print(\"Total Transportation cost: \", source_objective.getValue() +\n",
    "trans_objective.getValue())\n",
    "print(\"Total Transportation cost: \", model.ObjVal)\n",
    "# Print the decision variables\n",
    "print(model.printAttr('X'))"
   ]
  },
  {
   "cell_type": "code",
   "execution_count": null,
   "metadata": {},
   "outputs": [],
   "source": []
  }
 ],
 "metadata": {
  "kernelspec": {
   "display_name": "Python 3",
   "language": "python",
   "name": "python3"
  },
  "language_info": {
   "codemirror_mode": {
    "name": "ipython",
    "version": 3
   },
   "file_extension": ".py",
   "mimetype": "text/x-python",
   "name": "python",
   "nbconvert_exporter": "python",
   "pygments_lexer": "ipython3",
   "version": "3.11.3"
  }
 },
 "nbformat": 4,
 "nbformat_minor": 2
}
