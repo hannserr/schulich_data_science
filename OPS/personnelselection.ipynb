{
 "cells": [
  {
   "cell_type": "code",
   "execution_count": 2,
   "metadata": {},
   "outputs": [
    {
     "name": "stdout",
     "output_type": "stream",
     "text": [
      "Gurobi Optimizer version 11.0.0 build v11.0.0rc2 (win64 - Windows 11+.0 (22631.2))\n",
      "\n",
      "CPU model: 12th Gen Intel(R) Core(TM) i5-12500H, instruction set [SSE2|AVX|AVX2]\n",
      "Thread count: 12 physical cores, 16 logical processors, using up to 16 threads\n",
      "\n",
      "Optimize a model with 8 rows, 8 columns and 22 nonzeros\n",
      "Model fingerprint: 0xf75fa67d\n",
      "Variable types: 0 continuous, 8 integer (8 binary)\n",
      "Coefficient statistics:\n",
      "  Matrix range     [1e+00, 2e+00]\n",
      "  Objective range  [2e+00, 9e+00]\n",
      "  Bounds range     [1e+00, 1e+00]\n",
      "  RHS range        [1e+00, 3e+00]\n",
      "Presolve removed 8 rows and 8 columns\n",
      "Presolve time: 0.00s\n",
      "Presolve: All rows and columns removed\n",
      "\n",
      "Explored 0 nodes (0 simplex iterations) in 0.01 seconds (0.00 work units)\n",
      "Thread count was 1 (of 16 available processors)\n",
      "\n",
      "Solution count 1: 23 \n",
      "\n",
      "Optimal solution found (tolerance 1.00e-04)\n",
      "Best objective 2.300000000000e+01, best bound 2.300000000000e+01, gap 0.0000%\n",
      "\n",
      "    Variable            X \n",
      "-------------------------\n",
      " Employee[0]            1 \n",
      " Employee[3]            1 \n",
      " Employee[5]            1 \n",
      " Employee[6]            1 \n",
      " Employee[7]            1 \n",
      "Model Status:  2\n"
     ]
    }
   ],
   "source": [
    "from gurobipy import GRB\n",
    "import gurobipy as gb\n",
    "# Create the optimization model\n",
    "model = gb.Model(\"Personnel Selection\")\n",
    "# Create the one class of eight decision variables\n",
    "x = model.addVars(8, vtype=GRB.BINARY, name=\"Employee\")\n",
    "# Objective function coefficients\n",
    "coef = [5, 9, 4, 3, 8, 7, 2, 6]\n",
    "# The objective function\n",
    "model.setObjective(gb.quicksum(coef[i]*x[i] for i in range(8)), GRB.MAXIMIZE)\n",
    "# Add the constraints\n",
    "model.addConstr(x[0] + x[1] <= 1, \"Not Both #1\")\n",
    "model.addConstr(x[3] + x[4] <= 1, \"Not Both #2\")\n",
    "model.addConstr(x[2] <= x[1], \"If one then both\")\n",
    "model.addConstr(x[6] <= 1 - x[1], \"If one then not\")\n",
    "model.addConstr(x[3] <= x[4] + x[5], \"If one then another\")\n",
    "model.addConstr(2*x[5] <= x[6] + x[7], \"If one then both\")\n",
    "model.addConstr(x[0] + x[1] + x[4] + x[5] + x[7] <= 3, \"<= 3 employees\")\n",
    "model.addConstr(x[2] + x[3] + x[6] >= 2, \">= 2 employees\")\n",
    "# Optimally solve the problem\n",
    "model.optimize()\n",
    "# Print the objective and decision variables\n",
    "model.printAttr('X')\n",
    "# The status of the model\n",
    "print(\"Model Status: \", model.status)\n",
    "\n"
   ]
  },
  {
   "cell_type": "code",
   "execution_count": null,
   "metadata": {},
   "outputs": [],
   "source": []
  }
 ],
 "metadata": {
  "kernelspec": {
   "display_name": "Python 3",
   "language": "python",
   "name": "python3"
  },
  "language_info": {
   "codemirror_mode": {
    "name": "ipython",
    "version": 3
   },
   "file_extension": ".py",
   "mimetype": "text/x-python",
   "name": "python",
   "nbconvert_exporter": "python",
   "pygments_lexer": "ipython3",
   "version": "3.11.3"
  }
 },
 "nbformat": 4,
 "nbformat_minor": 2
}
