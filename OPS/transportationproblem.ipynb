{
 "cells": [
  {
   "cell_type": "code",
   "execution_count": 1,
   "metadata": {},
   "outputs": [],
   "source": [
    "from gurobipy import GRB\n",
    "import gurobipy as gb"
   ]
  },
  {
   "cell_type": "code",
   "execution_count": 3,
   "metadata": {},
   "outputs": [
    {
     "name": "stdout",
     "output_type": "stream",
     "text": [
      "Set parameter Username\n",
      "Academic license - for non-commercial use only - expires 2025-01-15\n",
      "Gurobi Optimizer version 11.0.0 build v11.0.0rc2 (win64 - Windows 11+.0 (22631.2))\n",
      "\n",
      "CPU model: 12th Gen Intel(R) Core(TM) i5-12500H, instruction set [SSE2|AVX|AVX2]\n",
      "Thread count: 12 physical cores, 16 logical processors, using up to 16 threads\n",
      "\n",
      "Optimize a model with 6 rows, 9 columns and 18 nonzeros\n",
      "Model fingerprint: 0x43d91904\n",
      "Coefficient statistics:\n",
      "  Matrix range     [1e+00, 1e+00]\n",
      "  Objective range  [2e+01, 6e+01]\n",
      "  Bounds range     [0e+00, 0e+00]\n",
      "  RHS range        [2e+05, 6e+05]\n",
      "Presolve time: 0.01s\n",
      "Presolved: 6 rows, 9 columns, 18 nonzeros\n",
      "\n",
      "Iteration    Objective       Primal Inf.    Dual Inf.      Time\n",
      "       0    2.0575000e+07   2.500000e+05   0.000000e+00      0s\n",
      "       2    2.4000000e+07   0.000000e+00   0.000000e+00      0s\n",
      "\n",
      "Solved in 2 iterations and 0.01 seconds (0.00 work units)\n",
      "Optimal objective  2.400000000e+07\n",
      "Number of Decision Variables:  9\n",
      "Total Transportation cost:  24000000.0\n",
      "\n",
      "    Variable            X \n",
      "-------------------------\n",
      "Transportation Plan[0,0]       200000 \n",
      "Transportation Plan[0,2]        75000 \n",
      "Transportation Plan[1,1]       250000 \n",
      "Transportation Plan[1,2]       150000 \n",
      "Transportation Plan[2,1]       300000 \n",
      "None\n"
     ]
    }
   ],
   "source": [
    "# Create the optimization model\n",
    "model = gb.Model(\"Transportation Problem\")\n",
    "# A list of list of costs\n",
    "costs = [[21, 50, 40], [35, 30, 22], [55, 20, 25]]\n",
    "demand = [200000, 600000, 225000]\n",
    "supply = [275000, 400000, 300000]\n",
    "# Create the a single class of decision variables\n",
    "x = model.addVars(3, 3, lb=0, vtype=GRB.CONTINUOUS, name=\"Transportation Plan\")\n",
    "# The objective function\n",
    "model.setObjective(gb.quicksum(costs[i][j]*x[i,j] for i in range(3) for j in\n",
    "range(3)), GRB.MINIMIZE)\n",
    "# Add the supply constraints\n",
    "for i in range(3):\n",
    "    model.addConstr(gb.quicksum(x[i,j] for j in range(3)) == supply[i],\n",
    "name=\"Supply Constraint %i\" %i)\n",
    "# Add the demand constraints\n",
    "for j in range(3):\n",
    "    model.addConstr(gb.quicksum(x[i,j] for i in range(3)) <= demand[j],\n",
    "name=\"Demand Constraint %i\" %j)\n",
    "# Optimally solve the problem\n",
    "model.optimize()\n",
    "# Number of variables in the model\n",
    "print(\"Number of Decision Variables: \", model.numVars)\n",
    "# Value of the objective function\n",
    "print(\"Total Transportation cost: \", model.objVal)\n",
    "# Print the decision variables\n",
    "print(model.printAttr('X'))\n"
   ]
  },
  {
   "cell_type": "code",
   "execution_count": null,
   "metadata": {},
   "outputs": [],
   "source": []
  }
 ],
 "metadata": {
  "kernelspec": {
   "display_name": "Python 3",
   "language": "python",
   "name": "python3"
  },
  "language_info": {
   "codemirror_mode": {
    "name": "ipython",
    "version": 3
   },
   "file_extension": ".py",
   "mimetype": "text/x-python",
   "name": "python",
   "nbconvert_exporter": "python",
   "pygments_lexer": "ipython3",
   "version": "3.11.3"
  }
 },
 "nbformat": 4,
 "nbformat_minor": 2
}
