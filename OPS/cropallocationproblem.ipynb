{
 "cells": [
  {
   "cell_type": "code",
   "execution_count": 3,
   "metadata": {},
   "outputs": [
    {
     "ename": "SyntaxError",
     "evalue": "unterminated string literal (detected at line 48) (2104799521.py, line 48)",
     "output_type": "error",
     "traceback": [
      "\u001b[1;36m  Cell \u001b[1;32mIn[3], line 48\u001b[1;36m\u001b[0m\n\u001b[1;33m    print(f\"Sensitivity Information for Land Capacity Constraint\u001b[0m\n\u001b[1;37m          ^\u001b[0m\n\u001b[1;31mSyntaxError\u001b[0m\u001b[1;31m:\u001b[0m unterminated string literal (detected at line 48)\n"
     ]
    }
   ],
   "source": [
    "from gurobipy import GRB\n",
    "import gurobipy as gb\n",
    "# The parameters\n",
    "oat_yield = 4.25\n",
    "maize_yield = 3.0\n",
    "soybean_yield = 20.0\n",
    "# Number of options\n",
    "CROPS = 3\n",
    "PURCHASED = 2\n",
    "SOLD = 4\n",
    "# Selling prices\n",
    "sell = [220, 260, 55, 26]\n",
    "purchase = [264, 312]\n",
    "# Create a new optimization model to maximize profit\n",
    "model = gb.Model(\"Farming Problem\")\n",
    "# Construct the decision variables.\n",
    "x = model.addVars(3, lb=0, vtype=GRB.CONTINUOUS, name=\"Crops\")\n",
    "w = model.addVars(4, lb=0, vtype=GRB.CONTINUOUS, name=\"Sold\")\n",
    "y = model.addVars(2, lb=0, vtype=GRB.CONTINUOUS, name=\"Purchased\")\n",
    "# Objective Function\n",
    "model.setObjective(gb.quicksum(w[i]*sell[i] for i in range(SOLD)) -\n",
    "gb.quicksum(y[i]*purchase[i] for i in range(PURCHASED)), GRB.MAXIMIZE)\n",
    "# Land capacity constraints\n",
    "land_constraint = model.addConstr(x[0] + x[1] + x[2] <= 500, \"Land Capacity\")\n",
    "# Cattle feed constraints (oats)\n",
    "cattle_constraint = model.addConstr(oat_yield*x[0] + y[0] - w[0] >= 200, \"Oats\")\n",
    "# Cattle feed constraints (Maize)\n",
    "oat_constraint = model.addConstr(maize_yield*x[1] + y[1] - w[1] >= 260, \"Oats\")\n",
    "# Quota constraints (Soybean)\n",
    "model.addConstr(w[2] <= 7000, \"Quota\")\n",
    "soy_constraint = model.addConstr(w[2] + w[3] == soybean_yield*x[2], \"Soybean\")\n",
    "# Solve our model\n",
    "model.optimize()\n",
    "# Append the objective function value\n",
    "print(\"The optimal solution: \", model.objVal)\n",
    "# Check if the optimization was successful\n",
    "if model.status == gb.GRB.OPTIMAL:\n",
    "# Print the sensitivity analysis for the amount sold\n",
    " print(\"Optimal Amount Sold:\")\n",
    "print(f\"{'Oats'} = {w[0].x, w[0].RC, sell[0], w[0].SAObjUp, w[0].SAObjLow}\")\n",
    "print(f\"{'Maize'} = {w[1].x, w[1].RC, sell[1], w[1].SAObjUp, w[1].SAObjLow}\")\n",
    "print(f\"{'Soybean'} = {w[2].x, w[2].RC, sell[2], w[2].SAObjUp, w[2].SAObjLow}\")\n",
    "print(f\"{'Soybean'} = {w[3].x, w[3].RC, sell[3], w[3].SAObjUp, w[3].SAObjLow}\")\n",
    "else:\n",
    "print(\"Optimization was not successful.\")\n",
    "# Print sensitivity information\n",
    "print(\"\")\n",
    "print(f\"Sensitivity Information for Land Capacity Constraint\n",
    "{land_constraint.pi:.2f}:\")\n",
    "print(\"(LHS, RHS, Slack): \", (model.getRow(land_constraint).getValue(),\n",
    "land_constraint.RHS, land_constraint.slack))\n",
    "print(\"Shadow Price: \", land_constraint.pi)\n",
    "print(\"Range of Feasibility: \", (land_constraint.SARHSUp,\n",
    "land_constraint.SARHSLow))"
   ]
  },
  {
   "cell_type": "code",
   "execution_count": null,
   "metadata": {},
   "outputs": [],
   "source": []
  }
 ],
 "metadata": {
  "kernelspec": {
   "display_name": "Python 3",
   "language": "python",
   "name": "python3"
  },
  "language_info": {
   "codemirror_mode": {
    "name": "ipython",
    "version": 3
   },
   "file_extension": ".py",
   "mimetype": "text/x-python",
   "name": "python",
   "nbconvert_exporter": "python",
   "pygments_lexer": "ipython3",
   "version": "3.11.3"
  }
 },
 "nbformat": 4,
 "nbformat_minor": 2
}
