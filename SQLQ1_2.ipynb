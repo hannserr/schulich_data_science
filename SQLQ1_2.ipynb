{
 "cells": [
  {
   "cell_type": "code",
   "execution_count": 24,
   "metadata": {},
   "outputs": [],
   "source": [
    "import pandas as pd\n",
    "from sqlalchemy import create_engine\n",
    "from sqlalchemy import text\n",
    "import psycopg2"
   ]
  },
  {
   "cell_type": "code",
   "execution_count": 25,
   "metadata": {},
   "outputs": [],
   "source": [
    "mban_db_final = {\n",
    "    'drivername': 'postgresql+psycopg2',\n",
    "    'host': 'mmai5100postgres.canadacentral.cloudapp.azure.com',\n",
    "    'port': '5432',\n",
    "    'username': 'hannserr',\n",
    "    'password': '2023!Schulich',\n",
    "    'database': 'mban_db'\n",
    "}\n",
    "\n",
    "mban_db_url = f\"{mban_db_final['drivername']}://{mban_db_final['username']}:{mban_db_final['password']}@{mban_db_final['host']}:{mban_db_final['port']}/{mban_db_final['database']}\"\n",
    "mban_engine = create_engine(mban_db_url)\n"
   ]
  },
  {
   "cell_type": "code",
   "execution_count": 26,
   "metadata": {},
   "outputs": [],
   "source": [
    "query = \"SELECT * FROM dimensions.date_dimension\"\n",
    "date_dimension_df = pd.read_sql_query(query, mban_engine)"
   ]
  },
  {
   "cell_type": "code",
   "execution_count": 27,
   "metadata": {},
   "outputs": [],
   "source": [
    "personal_db_final = {\n",
    "    'drivername': 'postgresql+psycopg2',\n",
    "    'host': 'mmai5100postgres.canadacentral.cloudapp.azure.com',\n",
    "    'port': '5432',\n",
    "    'username': 'hannserr',\n",
    "    'password': '2023!Schulich',\n",
    "    'database': 'hannserr_db'\n",
    "}\n",
    "\n",
    "personal_db_url = f\"{personal_db_final['drivername']}://{personal_db_final['username']}:{personal_db_final['password']}@{personal_db_final['host']}:{personal_db_final['port']}/{personal_db_final['database']}\"\n",
    "personal_engine = create_engine(personal_db_url)"
   ]
  },
  {
   "cell_type": "code",
   "execution_count": 30,
   "metadata": {},
   "outputs": [
    {
     "data": {
      "text/plain": [
       "826"
      ]
     },
     "execution_count": 30,
     "metadata": {},
     "output_type": "execute_result"
    }
   ],
   "source": [
    "with personal_engine.connect() as conn:\n",
    "    conn.execute(text(\"CREATE SCHEMA IF NOT EXISTS final_exam;\"))\n",
    "\n",
    "date_dimension_df.to_sql(\"date_dimension\", personal_engine, schema=\"final_exam\", if_exists=\"replace\", index=False)"
   ]
  },
  {
   "cell_type": "code",
   "execution_count": null,
   "metadata": {},
   "outputs": [],
   "source": []
  }
 ],
 "metadata": {
  "kernelspec": {
   "display_name": "Python 3",
   "language": "python",
   "name": "python3"
  },
  "language_info": {
   "codemirror_mode": {
    "name": "ipython",
    "version": 3
   },
   "file_extension": ".py",
   "mimetype": "text/x-python",
   "name": "python",
   "nbconvert_exporter": "python",
   "pygments_lexer": "ipython3",
   "version": "3.11.3"
  },
  "orig_nbformat": 4
 },
 "nbformat": 4,
 "nbformat_minor": 2
}
